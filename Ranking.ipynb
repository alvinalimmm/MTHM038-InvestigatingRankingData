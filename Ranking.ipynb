{
 "cells": [
  {
   "cell_type": "code",
   "execution_count": 1,
   "id": "5825f9a4",
   "metadata": {},
   "outputs": [],
   "source": [
    "import pandas as pd\n",
    "import numpy as np\n",
    "import itertools\n",
    "import math"
   ]
  },
  {
   "cell_type": "code",
   "execution_count": 2,
   "id": "34a2ec8f",
   "metadata": {},
   "outputs": [
    {
     "data": {
      "text/html": [
       "<div>\n",
       "<style scoped>\n",
       "    .dataframe tbody tr th:only-of-type {\n",
       "        vertical-align: middle;\n",
       "    }\n",
       "\n",
       "    .dataframe tbody tr th {\n",
       "        vertical-align: top;\n",
       "    }\n",
       "\n",
       "    .dataframe thead th {\n",
       "        text-align: right;\n",
       "    }\n",
       "</style>\n",
       "<table border=\"1\" class=\"dataframe\">\n",
       "  <thead>\n",
       "    <tr style=\"text-align: right;\">\n",
       "      <th></th>\n",
       "      <th>world_rank</th>\n",
       "      <th>institution</th>\n",
       "      <th>country</th>\n",
       "      <th>national_rank</th>\n",
       "      <th>quality_of_education</th>\n",
       "      <th>alumni_employment</th>\n",
       "      <th>quality_of_faculty</th>\n",
       "      <th>publications</th>\n",
       "      <th>influence</th>\n",
       "      <th>citations</th>\n",
       "      <th>broad_impact</th>\n",
       "      <th>patents</th>\n",
       "      <th>score</th>\n",
       "      <th>year</th>\n",
       "    </tr>\n",
       "  </thead>\n",
       "  <tbody>\n",
       "    <tr>\n",
       "      <th>0</th>\n",
       "      <td>1</td>\n",
       "      <td>Harvard University</td>\n",
       "      <td>USA</td>\n",
       "      <td>1</td>\n",
       "      <td>7</td>\n",
       "      <td>9</td>\n",
       "      <td>1</td>\n",
       "      <td>1</td>\n",
       "      <td>1</td>\n",
       "      <td>1</td>\n",
       "      <td>NaN</td>\n",
       "      <td>5</td>\n",
       "      <td>100.00</td>\n",
       "      <td>2012</td>\n",
       "    </tr>\n",
       "    <tr>\n",
       "      <th>1</th>\n",
       "      <td>2</td>\n",
       "      <td>Massachusetts Institute of Technology</td>\n",
       "      <td>USA</td>\n",
       "      <td>2</td>\n",
       "      <td>9</td>\n",
       "      <td>17</td>\n",
       "      <td>3</td>\n",
       "      <td>12</td>\n",
       "      <td>4</td>\n",
       "      <td>4</td>\n",
       "      <td>NaN</td>\n",
       "      <td>1</td>\n",
       "      <td>91.67</td>\n",
       "      <td>2012</td>\n",
       "    </tr>\n",
       "    <tr>\n",
       "      <th>2</th>\n",
       "      <td>3</td>\n",
       "      <td>Stanford University</td>\n",
       "      <td>USA</td>\n",
       "      <td>3</td>\n",
       "      <td>17</td>\n",
       "      <td>11</td>\n",
       "      <td>5</td>\n",
       "      <td>4</td>\n",
       "      <td>2</td>\n",
       "      <td>2</td>\n",
       "      <td>NaN</td>\n",
       "      <td>15</td>\n",
       "      <td>89.50</td>\n",
       "      <td>2012</td>\n",
       "    </tr>\n",
       "    <tr>\n",
       "      <th>3</th>\n",
       "      <td>4</td>\n",
       "      <td>University of Cambridge</td>\n",
       "      <td>United Kingdom</td>\n",
       "      <td>1</td>\n",
       "      <td>10</td>\n",
       "      <td>24</td>\n",
       "      <td>4</td>\n",
       "      <td>16</td>\n",
       "      <td>16</td>\n",
       "      <td>11</td>\n",
       "      <td>NaN</td>\n",
       "      <td>50</td>\n",
       "      <td>86.17</td>\n",
       "      <td>2012</td>\n",
       "    </tr>\n",
       "    <tr>\n",
       "      <th>4</th>\n",
       "      <td>5</td>\n",
       "      <td>California Institute of Technology</td>\n",
       "      <td>USA</td>\n",
       "      <td>4</td>\n",
       "      <td>2</td>\n",
       "      <td>29</td>\n",
       "      <td>7</td>\n",
       "      <td>37</td>\n",
       "      <td>22</td>\n",
       "      <td>22</td>\n",
       "      <td>NaN</td>\n",
       "      <td>18</td>\n",
       "      <td>85.21</td>\n",
       "      <td>2012</td>\n",
       "    </tr>\n",
       "  </tbody>\n",
       "</table>\n",
       "</div>"
      ],
      "text/plain": [
       "   world_rank                            institution         country  \\\n",
       "0           1                     Harvard University             USA   \n",
       "1           2  Massachusetts Institute of Technology             USA   \n",
       "2           3                    Stanford University             USA   \n",
       "3           4                University of Cambridge  United Kingdom   \n",
       "4           5     California Institute of Technology             USA   \n",
       "\n",
       "   national_rank  quality_of_education  alumni_employment  quality_of_faculty  \\\n",
       "0              1                     7                  9                   1   \n",
       "1              2                     9                 17                   3   \n",
       "2              3                    17                 11                   5   \n",
       "3              1                    10                 24                   4   \n",
       "4              4                     2                 29                   7   \n",
       "\n",
       "   publications  influence  citations  broad_impact  patents   score  year  \n",
       "0             1          1          1           NaN        5  100.00  2012  \n",
       "1            12          4          4           NaN        1   91.67  2012  \n",
       "2             4          2          2           NaN       15   89.50  2012  \n",
       "3            16         16         11           NaN       50   86.17  2012  \n",
       "4            37         22         22           NaN       18   85.21  2012  "
      ]
     },
     "execution_count": 2,
     "metadata": {},
     "output_type": "execute_result"
    }
   ],
   "source": [
    "data = pd.read_csv(\"cwurData.csv\") #read file\n",
    "data.head()\n",
    "#pd.set_option('display.max_rows', 2200)"
   ]
  },
  {
   "cell_type": "code",
   "execution_count": 3,
   "id": "8b1d0f7b",
   "metadata": {},
   "outputs": [
    {
     "data": {
      "text/plain": [
       "world_rank                int64\n",
       "institution              object\n",
       "country                  object\n",
       "national_rank             int64\n",
       "quality_of_education      int64\n",
       "alumni_employment         int64\n",
       "quality_of_faculty        int64\n",
       "publications              int64\n",
       "influence                 int64\n",
       "citations                 int64\n",
       "broad_impact            float64\n",
       "patents                   int64\n",
       "score                   float64\n",
       "year                      int64\n",
       "dtype: object"
      ]
     },
     "execution_count": 3,
     "metadata": {},
     "output_type": "execute_result"
    }
   ],
   "source": [
    "data.dtypes"
   ]
  },
  {
   "cell_type": "code",
   "execution_count": 4,
   "id": "db9ef214",
   "metadata": {},
   "outputs": [],
   "source": [
    "# Create new dataframe, groupby 'year' (from 2012 to 2015)\n",
    "yr12 = data.loc[data['year'] == 2012].set_index(['world_rank'])\n",
    "yr13 = data.loc[data['year'] == 2013].set_index(['world_rank'])\n",
    "yr14 = data.loc[data['year'] == 2014].set_index(['world_rank'])\n",
    "yr15 = data.loc[data['year'] == 2015].set_index(['world_rank'])"
   ]
  },
  {
   "cell_type": "code",
   "execution_count": 5,
   "id": "3d467327",
   "metadata": {},
   "outputs": [
    {
     "data": {
      "text/plain": [
       "institution               0\n",
       "country                   0\n",
       "national_rank             0\n",
       "quality_of_education      0\n",
       "alumni_employment         0\n",
       "quality_of_faculty        0\n",
       "publications              0\n",
       "influence                 0\n",
       "citations                 0\n",
       "broad_impact            100\n",
       "patents                   0\n",
       "score                     0\n",
       "year                      0\n",
       "dtype: int64"
      ]
     },
     "execution_count": 5,
     "metadata": {},
     "output_type": "execute_result"
    }
   ],
   "source": [
    "# Check any null in dataframe\n",
    "np.sum(yr12.isnull())"
   ]
  },
  {
   "cell_type": "code",
   "execution_count": 6,
   "id": "352dd820",
   "metadata": {},
   "outputs": [
    {
     "data": {
      "text/plain": [
       "institution               0\n",
       "country                   0\n",
       "national_rank             0\n",
       "quality_of_education      0\n",
       "alumni_employment         0\n",
       "quality_of_faculty        0\n",
       "publications              0\n",
       "influence                 0\n",
       "citations                 0\n",
       "broad_impact            100\n",
       "patents                   0\n",
       "score                     0\n",
       "year                      0\n",
       "dtype: int64"
      ]
     },
     "execution_count": 6,
     "metadata": {},
     "output_type": "execute_result"
    }
   ],
   "source": [
    "# Check any null in dataframe\n",
    "np.sum(yr13.isnull())"
   ]
  },
  {
   "cell_type": "code",
   "execution_count": 7,
   "id": "2307ddaf",
   "metadata": {},
   "outputs": [
    {
     "data": {
      "text/plain": [
       "institution               0\n",
       "country                   0\n",
       "national_rank             0\n",
       "quality_of_education      0\n",
       "alumni_employment         0\n",
       "quality_of_faculty        0\n",
       "publications              0\n",
       "influence                 0\n",
       "citations                 0\n",
       "broad_impact            100\n",
       "patents                   0\n",
       "score                     0\n",
       "year                      0\n",
       "dtype: int64"
      ]
     },
     "execution_count": 7,
     "metadata": {},
     "output_type": "execute_result"
    }
   ],
   "source": [
    "# Check any null in dataframe\n",
    "np.sum(yr13.isnull())"
   ]
  },
  {
   "cell_type": "code",
   "execution_count": 8,
   "id": "13e953e6",
   "metadata": {},
   "outputs": [
    {
     "data": {
      "text/plain": [
       "institution             0\n",
       "country                 0\n",
       "national_rank           0\n",
       "quality_of_education    0\n",
       "alumni_employment       0\n",
       "quality_of_faculty      0\n",
       "publications            0\n",
       "influence               0\n",
       "citations               0\n",
       "broad_impact            0\n",
       "patents                 0\n",
       "score                   0\n",
       "year                    0\n",
       "dtype: int64"
      ]
     },
     "execution_count": 8,
     "metadata": {},
     "output_type": "execute_result"
    }
   ],
   "source": [
    "# Check any null in dataframe\n",
    "np.sum(yr15.isnull())"
   ]
  },
  {
   "cell_type": "code",
   "execution_count": 9,
   "id": "b311d52c",
   "metadata": {},
   "outputs": [],
   "source": [
    "# Remove columns\n",
    "yr12.drop(['institution','country','national_rank','broad_impact','score','year'], axis=1, inplace=True)\n",
    "yr13.drop(['institution','country','national_rank','broad_impact','score','year'], axis=1, inplace=True)\n",
    "yr14.drop(['institution','country','national_rank','broad_impact','score','year'], axis=1, inplace=True)\n",
    "yr15.drop(['institution','country','national_rank','broad_impact','score','year'], axis=1, inplace=True)"
   ]
  },
  {
   "cell_type": "code",
   "execution_count": 10,
   "id": "608ef128",
   "metadata": {},
   "outputs": [
    {
     "data": {
      "text/html": [
       "<div>\n",
       "<style scoped>\n",
       "    .dataframe tbody tr th:only-of-type {\n",
       "        vertical-align: middle;\n",
       "    }\n",
       "\n",
       "    .dataframe tbody tr th {\n",
       "        vertical-align: top;\n",
       "    }\n",
       "\n",
       "    .dataframe thead th {\n",
       "        text-align: right;\n",
       "    }\n",
       "</style>\n",
       "<table border=\"1\" class=\"dataframe\">\n",
       "  <thead>\n",
       "    <tr style=\"text-align: right;\">\n",
       "      <th></th>\n",
       "      <th>quality_of_education</th>\n",
       "      <th>alumni_employment</th>\n",
       "      <th>quality_of_faculty</th>\n",
       "      <th>publications</th>\n",
       "      <th>influence</th>\n",
       "      <th>citations</th>\n",
       "      <th>patents</th>\n",
       "    </tr>\n",
       "  </thead>\n",
       "  <tbody>\n",
       "    <tr>\n",
       "      <th>count</th>\n",
       "      <td>100.00000</td>\n",
       "      <td>100.000000</td>\n",
       "      <td>100.000000</td>\n",
       "      <td>100.000000</td>\n",
       "      <td>100.000000</td>\n",
       "      <td>100.000000</td>\n",
       "      <td>100.00000</td>\n",
       "    </tr>\n",
       "    <tr>\n",
       "      <th>mean</th>\n",
       "      <td>66.42000</td>\n",
       "      <td>75.390000</td>\n",
       "      <td>56.930000</td>\n",
       "      <td>55.020000</td>\n",
       "      <td>54.890000</td>\n",
       "      <td>54.420000</td>\n",
       "      <td>63.65000</td>\n",
       "    </tr>\n",
       "    <tr>\n",
       "      <th>std</th>\n",
       "      <td>34.59847</td>\n",
       "      <td>32.615264</td>\n",
       "      <td>34.685966</td>\n",
       "      <td>33.490834</td>\n",
       "      <td>33.401111</td>\n",
       "      <td>33.205263</td>\n",
       "      <td>37.49111</td>\n",
       "    </tr>\n",
       "    <tr>\n",
       "      <th>min</th>\n",
       "      <td>1.00000</td>\n",
       "      <td>3.000000</td>\n",
       "      <td>1.000000</td>\n",
       "      <td>1.000000</td>\n",
       "      <td>1.000000</td>\n",
       "      <td>1.000000</td>\n",
       "      <td>1.00000</td>\n",
       "    </tr>\n",
       "    <tr>\n",
       "      <th>25%</th>\n",
       "      <td>33.75000</td>\n",
       "      <td>51.500000</td>\n",
       "      <td>25.750000</td>\n",
       "      <td>25.750000</td>\n",
       "      <td>25.750000</td>\n",
       "      <td>25.750000</td>\n",
       "      <td>27.75000</td>\n",
       "    </tr>\n",
       "    <tr>\n",
       "      <th>50%</th>\n",
       "      <td>78.00000</td>\n",
       "      <td>101.000000</td>\n",
       "      <td>53.000000</td>\n",
       "      <td>52.500000</td>\n",
       "      <td>51.500000</td>\n",
       "      <td>51.500000</td>\n",
       "      <td>67.50000</td>\n",
       "    </tr>\n",
       "    <tr>\n",
       "      <th>75%</th>\n",
       "      <td>101.00000</td>\n",
       "      <td>101.000000</td>\n",
       "      <td>93.250000</td>\n",
       "      <td>85.250000</td>\n",
       "      <td>91.250000</td>\n",
       "      <td>86.750000</td>\n",
       "      <td>101.00000</td>\n",
       "    </tr>\n",
       "    <tr>\n",
       "      <th>max</th>\n",
       "      <td>101.00000</td>\n",
       "      <td>101.000000</td>\n",
       "      <td>101.000000</td>\n",
       "      <td>101.000000</td>\n",
       "      <td>101.000000</td>\n",
       "      <td>101.000000</td>\n",
       "      <td>101.00000</td>\n",
       "    </tr>\n",
       "  </tbody>\n",
       "</table>\n",
       "</div>"
      ],
      "text/plain": [
       "       quality_of_education  alumni_employment  quality_of_faculty  \\\n",
       "count             100.00000         100.000000          100.000000   \n",
       "mean               66.42000          75.390000           56.930000   \n",
       "std                34.59847          32.615264           34.685966   \n",
       "min                 1.00000           3.000000            1.000000   \n",
       "25%                33.75000          51.500000           25.750000   \n",
       "50%                78.00000         101.000000           53.000000   \n",
       "75%               101.00000         101.000000           93.250000   \n",
       "max               101.00000         101.000000          101.000000   \n",
       "\n",
       "       publications   influence   citations    patents  \n",
       "count    100.000000  100.000000  100.000000  100.00000  \n",
       "mean      55.020000   54.890000   54.420000   63.65000  \n",
       "std       33.490834   33.401111   33.205263   37.49111  \n",
       "min        1.000000    1.000000    1.000000    1.00000  \n",
       "25%       25.750000   25.750000   25.750000   27.75000  \n",
       "50%       52.500000   51.500000   51.500000   67.50000  \n",
       "75%       85.250000   91.250000   86.750000  101.00000  \n",
       "max      101.000000  101.000000  101.000000  101.00000  "
      ]
     },
     "execution_count": 10,
     "metadata": {},
     "output_type": "execute_result"
    }
   ],
   "source": [
    "# Generate descriptive statistics\n",
    "yr12.describe()"
   ]
  },
  {
   "cell_type": "code",
   "execution_count": 11,
   "id": "faadb2ce",
   "metadata": {},
   "outputs": [
    {
     "data": {
      "text/html": [
       "<div>\n",
       "<style scoped>\n",
       "    .dataframe tbody tr th:only-of-type {\n",
       "        vertical-align: middle;\n",
       "    }\n",
       "\n",
       "    .dataframe tbody tr th {\n",
       "        vertical-align: top;\n",
       "    }\n",
       "\n",
       "    .dataframe thead th {\n",
       "        text-align: right;\n",
       "    }\n",
       "</style>\n",
       "<table border=\"1\" class=\"dataframe\">\n",
       "  <thead>\n",
       "    <tr style=\"text-align: right;\">\n",
       "      <th></th>\n",
       "      <th>quality_of_education</th>\n",
       "      <th>alumni_employment</th>\n",
       "      <th>quality_of_faculty</th>\n",
       "      <th>publications</th>\n",
       "      <th>influence</th>\n",
       "      <th>citations</th>\n",
       "      <th>patents</th>\n",
       "    </tr>\n",
       "  </thead>\n",
       "  <tbody>\n",
       "    <tr>\n",
       "      <th>count</th>\n",
       "      <td>100.000000</td>\n",
       "      <td>100.00000</td>\n",
       "      <td>100.000000</td>\n",
       "      <td>100.000000</td>\n",
       "      <td>100.000000</td>\n",
       "      <td>100.000000</td>\n",
       "      <td>100.000000</td>\n",
       "    </tr>\n",
       "    <tr>\n",
       "      <th>mean</th>\n",
       "      <td>65.760000</td>\n",
       "      <td>75.91000</td>\n",
       "      <td>56.060000</td>\n",
       "      <td>54.670000</td>\n",
       "      <td>56.280000</td>\n",
       "      <td>53.930000</td>\n",
       "      <td>63.550000</td>\n",
       "    </tr>\n",
       "    <tr>\n",
       "      <th>std</th>\n",
       "      <td>36.972859</td>\n",
       "      <td>36.03284</td>\n",
       "      <td>34.429204</td>\n",
       "      <td>33.580915</td>\n",
       "      <td>34.530642</td>\n",
       "      <td>32.940183</td>\n",
       "      <td>36.064021</td>\n",
       "    </tr>\n",
       "    <tr>\n",
       "      <th>min</th>\n",
       "      <td>1.000000</td>\n",
       "      <td>1.00000</td>\n",
       "      <td>1.000000</td>\n",
       "      <td>1.000000</td>\n",
       "      <td>1.000000</td>\n",
       "      <td>1.000000</td>\n",
       "      <td>1.000000</td>\n",
       "    </tr>\n",
       "    <tr>\n",
       "      <th>25%</th>\n",
       "      <td>30.750000</td>\n",
       "      <td>46.50000</td>\n",
       "      <td>25.750000</td>\n",
       "      <td>25.750000</td>\n",
       "      <td>25.750000</td>\n",
       "      <td>25.750000</td>\n",
       "      <td>29.250000</td>\n",
       "    </tr>\n",
       "    <tr>\n",
       "      <th>50%</th>\n",
       "      <td>78.000000</td>\n",
       "      <td>101.00000</td>\n",
       "      <td>51.500000</td>\n",
       "      <td>51.000000</td>\n",
       "      <td>52.500000</td>\n",
       "      <td>51.500000</td>\n",
       "      <td>67.000000</td>\n",
       "    </tr>\n",
       "    <tr>\n",
       "      <th>75%</th>\n",
       "      <td>101.000000</td>\n",
       "      <td>101.00000</td>\n",
       "      <td>94.250000</td>\n",
       "      <td>89.250000</td>\n",
       "      <td>97.250000</td>\n",
       "      <td>85.750000</td>\n",
       "      <td>101.000000</td>\n",
       "    </tr>\n",
       "    <tr>\n",
       "      <th>max</th>\n",
       "      <td>101.000000</td>\n",
       "      <td>101.00000</td>\n",
       "      <td>101.000000</td>\n",
       "      <td>101.000000</td>\n",
       "      <td>101.000000</td>\n",
       "      <td>101.000000</td>\n",
       "      <td>101.000000</td>\n",
       "    </tr>\n",
       "  </tbody>\n",
       "</table>\n",
       "</div>"
      ],
      "text/plain": [
       "       quality_of_education  alumni_employment  quality_of_faculty  \\\n",
       "count            100.000000          100.00000          100.000000   \n",
       "mean              65.760000           75.91000           56.060000   \n",
       "std               36.972859           36.03284           34.429204   \n",
       "min                1.000000            1.00000            1.000000   \n",
       "25%               30.750000           46.50000           25.750000   \n",
       "50%               78.000000          101.00000           51.500000   \n",
       "75%              101.000000          101.00000           94.250000   \n",
       "max              101.000000          101.00000          101.000000   \n",
       "\n",
       "       publications   influence   citations     patents  \n",
       "count    100.000000  100.000000  100.000000  100.000000  \n",
       "mean      54.670000   56.280000   53.930000   63.550000  \n",
       "std       33.580915   34.530642   32.940183   36.064021  \n",
       "min        1.000000    1.000000    1.000000    1.000000  \n",
       "25%       25.750000   25.750000   25.750000   29.250000  \n",
       "50%       51.000000   52.500000   51.500000   67.000000  \n",
       "75%       89.250000   97.250000   85.750000  101.000000  \n",
       "max      101.000000  101.000000  101.000000  101.000000  "
      ]
     },
     "execution_count": 11,
     "metadata": {},
     "output_type": "execute_result"
    }
   ],
   "source": [
    "yr13.describe()"
   ]
  },
  {
   "cell_type": "code",
   "execution_count": 12,
   "id": "e2450a7f",
   "metadata": {},
   "outputs": [
    {
     "data": {
      "text/html": [
       "<div>\n",
       "<style scoped>\n",
       "    .dataframe tbody tr th:only-of-type {\n",
       "        vertical-align: middle;\n",
       "    }\n",
       "\n",
       "    .dataframe tbody tr th {\n",
       "        vertical-align: top;\n",
       "    }\n",
       "\n",
       "    .dataframe thead th {\n",
       "        text-align: right;\n",
       "    }\n",
       "</style>\n",
       "<table border=\"1\" class=\"dataframe\">\n",
       "  <thead>\n",
       "    <tr style=\"text-align: right;\">\n",
       "      <th></th>\n",
       "      <th>quality_of_education</th>\n",
       "      <th>alumni_employment</th>\n",
       "      <th>quality_of_faculty</th>\n",
       "      <th>publications</th>\n",
       "      <th>influence</th>\n",
       "      <th>citations</th>\n",
       "      <th>patents</th>\n",
       "    </tr>\n",
       "  </thead>\n",
       "  <tbody>\n",
       "    <tr>\n",
       "      <th>count</th>\n",
       "      <td>1000.000000</td>\n",
       "      <td>1000.000000</td>\n",
       "      <td>1000.000000</td>\n",
       "      <td>1000.000000</td>\n",
       "      <td>1000.000000</td>\n",
       "      <td>1000.000000</td>\n",
       "      <td>1000.000000</td>\n",
       "    </tr>\n",
       "    <tr>\n",
       "      <th>mean</th>\n",
       "      <td>292.164000</td>\n",
       "      <td>363.991000</td>\n",
       "      <td>188.002000</td>\n",
       "      <td>500.411000</td>\n",
       "      <td>500.163000</td>\n",
       "      <td>447.349000</td>\n",
       "      <td>448.968000</td>\n",
       "    </tr>\n",
       "    <tr>\n",
       "      <th>std</th>\n",
       "      <td>104.464577</td>\n",
       "      <td>152.701345</td>\n",
       "      <td>50.897668</td>\n",
       "      <td>288.734043</td>\n",
       "      <td>288.288391</td>\n",
       "      <td>248.287168</td>\n",
       "      <td>240.503711</td>\n",
       "    </tr>\n",
       "    <tr>\n",
       "      <th>min</th>\n",
       "      <td>1.000000</td>\n",
       "      <td>1.000000</td>\n",
       "      <td>1.000000</td>\n",
       "      <td>1.000000</td>\n",
       "      <td>1.000000</td>\n",
       "      <td>1.000000</td>\n",
       "      <td>1.000000</td>\n",
       "    </tr>\n",
       "    <tr>\n",
       "      <th>25%</th>\n",
       "      <td>250.750000</td>\n",
       "      <td>250.750000</td>\n",
       "      <td>210.000000</td>\n",
       "      <td>250.750000</td>\n",
       "      <td>250.750000</td>\n",
       "      <td>250.000000</td>\n",
       "      <td>227.000000</td>\n",
       "    </tr>\n",
       "    <tr>\n",
       "      <th>50%</th>\n",
       "      <td>355.000000</td>\n",
       "      <td>478.000000</td>\n",
       "      <td>210.000000</td>\n",
       "      <td>500.500000</td>\n",
       "      <td>500.500000</td>\n",
       "      <td>493.000000</td>\n",
       "      <td>481.000000</td>\n",
       "    </tr>\n",
       "    <tr>\n",
       "      <th>75%</th>\n",
       "      <td>355.000000</td>\n",
       "      <td>478.000000</td>\n",
       "      <td>210.000000</td>\n",
       "      <td>750.250000</td>\n",
       "      <td>750.250000</td>\n",
       "      <td>609.000000</td>\n",
       "      <td>737.000000</td>\n",
       "    </tr>\n",
       "    <tr>\n",
       "      <th>max</th>\n",
       "      <td>355.000000</td>\n",
       "      <td>478.000000</td>\n",
       "      <td>210.000000</td>\n",
       "      <td>1000.000000</td>\n",
       "      <td>987.000000</td>\n",
       "      <td>800.000000</td>\n",
       "      <td>737.000000</td>\n",
       "    </tr>\n",
       "  </tbody>\n",
       "</table>\n",
       "</div>"
      ],
      "text/plain": [
       "       quality_of_education  alumni_employment  quality_of_faculty  \\\n",
       "count           1000.000000        1000.000000         1000.000000   \n",
       "mean             292.164000         363.991000          188.002000   \n",
       "std              104.464577         152.701345           50.897668   \n",
       "min                1.000000           1.000000            1.000000   \n",
       "25%              250.750000         250.750000          210.000000   \n",
       "50%              355.000000         478.000000          210.000000   \n",
       "75%              355.000000         478.000000          210.000000   \n",
       "max              355.000000         478.000000          210.000000   \n",
       "\n",
       "       publications    influence    citations      patents  \n",
       "count   1000.000000  1000.000000  1000.000000  1000.000000  \n",
       "mean     500.411000   500.163000   447.349000   448.968000  \n",
       "std      288.734043   288.288391   248.287168   240.503711  \n",
       "min        1.000000     1.000000     1.000000     1.000000  \n",
       "25%      250.750000   250.750000   250.000000   227.000000  \n",
       "50%      500.500000   500.500000   493.000000   481.000000  \n",
       "75%      750.250000   750.250000   609.000000   737.000000  \n",
       "max     1000.000000   987.000000   800.000000   737.000000  "
      ]
     },
     "execution_count": 12,
     "metadata": {},
     "output_type": "execute_result"
    }
   ],
   "source": [
    "yr14.describe()"
   ]
  },
  {
   "cell_type": "code",
   "execution_count": 13,
   "id": "7f026254",
   "metadata": {},
   "outputs": [
    {
     "data": {
      "text/html": [
       "<div>\n",
       "<style scoped>\n",
       "    .dataframe tbody tr th:only-of-type {\n",
       "        vertical-align: middle;\n",
       "    }\n",
       "\n",
       "    .dataframe tbody tr th {\n",
       "        vertical-align: top;\n",
       "    }\n",
       "\n",
       "    .dataframe thead th {\n",
       "        text-align: right;\n",
       "    }\n",
       "</style>\n",
       "<table border=\"1\" class=\"dataframe\">\n",
       "  <thead>\n",
       "    <tr style=\"text-align: right;\">\n",
       "      <th></th>\n",
       "      <th>quality_of_education</th>\n",
       "      <th>alumni_employment</th>\n",
       "      <th>quality_of_faculty</th>\n",
       "      <th>publications</th>\n",
       "      <th>influence</th>\n",
       "      <th>citations</th>\n",
       "      <th>patents</th>\n",
       "    </tr>\n",
       "  </thead>\n",
       "  <tbody>\n",
       "    <tr>\n",
       "      <th>count</th>\n",
       "      <td>1000.000000</td>\n",
       "      <td>1000.000000</td>\n",
       "      <td>1000.000000</td>\n",
       "      <td>1000.000000</td>\n",
       "      <td>1000.000000</td>\n",
       "      <td>1000.000000</td>\n",
       "      <td>1000.000000</td>\n",
       "    </tr>\n",
       "    <tr>\n",
       "      <th>mean</th>\n",
       "      <td>299.839000</td>\n",
       "      <td>406.536000</td>\n",
       "      <td>194.253000</td>\n",
       "      <td>500.419000</td>\n",
       "      <td>500.275000</td>\n",
       "      <td>451.334000</td>\n",
       "      <td>491.674000</td>\n",
       "    </tr>\n",
       "    <tr>\n",
       "      <th>std</th>\n",
       "      <td>109.137446</td>\n",
       "      <td>186.782779</td>\n",
       "      <td>53.709214</td>\n",
       "      <td>288.760066</td>\n",
       "      <td>288.465949</td>\n",
       "      <td>252.090134</td>\n",
       "      <td>275.904565</td>\n",
       "    </tr>\n",
       "    <tr>\n",
       "      <th>min</th>\n",
       "      <td>1.000000</td>\n",
       "      <td>1.000000</td>\n",
       "      <td>1.000000</td>\n",
       "      <td>1.000000</td>\n",
       "      <td>1.000000</td>\n",
       "      <td>1.000000</td>\n",
       "      <td>1.000000</td>\n",
       "    </tr>\n",
       "    <tr>\n",
       "      <th>25%</th>\n",
       "      <td>250.750000</td>\n",
       "      <td>250.750000</td>\n",
       "      <td>218.000000</td>\n",
       "      <td>250.750000</td>\n",
       "      <td>250.750000</td>\n",
       "      <td>234.000000</td>\n",
       "      <td>250.750000</td>\n",
       "    </tr>\n",
       "    <tr>\n",
       "      <th>50%</th>\n",
       "      <td>367.000000</td>\n",
       "      <td>500.500000</td>\n",
       "      <td>218.000000</td>\n",
       "      <td>500.500000</td>\n",
       "      <td>500.500000</td>\n",
       "      <td>428.000000</td>\n",
       "      <td>500.500000</td>\n",
       "    </tr>\n",
       "    <tr>\n",
       "      <th>75%</th>\n",
       "      <td>367.000000</td>\n",
       "      <td>567.000000</td>\n",
       "      <td>218.000000</td>\n",
       "      <td>750.000000</td>\n",
       "      <td>750.250000</td>\n",
       "      <td>645.000000</td>\n",
       "      <td>749.000000</td>\n",
       "    </tr>\n",
       "    <tr>\n",
       "      <th>max</th>\n",
       "      <td>367.000000</td>\n",
       "      <td>567.000000</td>\n",
       "      <td>218.000000</td>\n",
       "      <td>1000.000000</td>\n",
       "      <td>991.000000</td>\n",
       "      <td>812.000000</td>\n",
       "      <td>871.000000</td>\n",
       "    </tr>\n",
       "  </tbody>\n",
       "</table>\n",
       "</div>"
      ],
      "text/plain": [
       "       quality_of_education  alumni_employment  quality_of_faculty  \\\n",
       "count           1000.000000        1000.000000         1000.000000   \n",
       "mean             299.839000         406.536000          194.253000   \n",
       "std              109.137446         186.782779           53.709214   \n",
       "min                1.000000           1.000000            1.000000   \n",
       "25%              250.750000         250.750000          218.000000   \n",
       "50%              367.000000         500.500000          218.000000   \n",
       "75%              367.000000         567.000000          218.000000   \n",
       "max              367.000000         567.000000          218.000000   \n",
       "\n",
       "       publications    influence    citations      patents  \n",
       "count   1000.000000  1000.000000  1000.000000  1000.000000  \n",
       "mean     500.419000   500.275000   451.334000   491.674000  \n",
       "std      288.760066   288.465949   252.090134   275.904565  \n",
       "min        1.000000     1.000000     1.000000     1.000000  \n",
       "25%      250.750000   250.750000   234.000000   250.750000  \n",
       "50%      500.500000   500.500000   428.000000   500.500000  \n",
       "75%      750.000000   750.250000   645.000000   749.000000  \n",
       "max     1000.000000   991.000000   812.000000   871.000000  "
      ]
     },
     "execution_count": 13,
     "metadata": {},
     "output_type": "execute_result"
    }
   ],
   "source": [
    "yr15.describe()"
   ]
  },
  {
   "cell_type": "markdown",
   "id": "c986f229",
   "metadata": {},
   "source": [
    "## Metrics on Fully Ranked Data"
   ]
  },
  {
   "cell_type": "code",
   "execution_count": 14,
   "id": "c432d1bd",
   "metadata": {},
   "outputs": [],
   "source": [
    "## Spearman's rho\n",
    "\n",
    "def spearmans_rho(x, y):\n",
    "    \n",
    "    distance = 0\n",
    "    \n",
    "    for i in range(len(x)):\n",
    "        distance += math.pow(x[i] - y[i], 2)\n",
    "    \n",
    "    return math.sqrt(distance)"
   ]
  },
  {
   "cell_type": "code",
   "execution_count": 15,
   "id": "e6c226c1",
   "metadata": {},
   "outputs": [],
   "source": [
    "a = [5,4,2,1,3]\n",
    "b = [4,3,1,2,5]"
   ]
  },
  {
   "cell_type": "code",
   "execution_count": 16,
   "id": "63fa7377",
   "metadata": {},
   "outputs": [
    {
     "data": {
      "text/plain": [
       "2.8284271247461903"
      ]
     },
     "execution_count": 16,
     "metadata": {},
     "output_type": "execute_result"
    }
   ],
   "source": [
    "spearmans_rho(a,b)"
   ]
  },
  {
   "cell_type": "code",
   "execution_count": 17,
   "id": "f314e565",
   "metadata": {},
   "outputs": [],
   "source": [
    "## Spearman's footrule\n",
    "\n",
    "def spearmans_footrule(x, y):\n",
    "    \n",
    "    distance = 0\n",
    "    \n",
    "    for i in range(len(x)):\n",
    "        distance += abs(x[i] - y[i])\n",
    "        \n",
    "    return distance"
   ]
  },
  {
   "cell_type": "code",
   "execution_count": 18,
   "id": "89ca66f0",
   "metadata": {},
   "outputs": [],
   "source": [
    "h = [3,4,1,2]\n",
    "w = [2,4,1,3]"
   ]
  },
  {
   "cell_type": "code",
   "execution_count": 19,
   "id": "8e8e121a",
   "metadata": {},
   "outputs": [
    {
     "data": {
      "text/plain": [
       "2"
      ]
     },
     "execution_count": 19,
     "metadata": {},
     "output_type": "execute_result"
    }
   ],
   "source": [
    "spearmans_footrule(h,w)"
   ]
  },
  {
   "cell_type": "code",
   "execution_count": 20,
   "id": "62f0438f",
   "metadata": {},
   "outputs": [],
   "source": [
    "## Kendall's tau\n",
    "\n",
    "def kendalls_tau(x, y):\n",
    "    pairs = itertools.permutations(range(0, len(x)), 2)\n",
    "    \n",
    "    distance = 0\n",
    "\n",
    "    for i, j in pairs:\n",
    "        if x[i] < x[j] and y[i] > y[j]:\n",
    "            distance += 1\n",
    "\n",
    "    return distance"
   ]
  },
  {
   "cell_type": "code",
   "execution_count": 21,
   "id": "2092add0",
   "metadata": {},
   "outputs": [
    {
     "data": {
      "text/plain": [
       "1"
      ]
     },
     "execution_count": 21,
     "metadata": {},
     "output_type": "execute_result"
    }
   ],
   "source": [
    "kendalls_tau(h,w)"
   ]
  },
  {
   "cell_type": "markdown",
   "id": "5f4110f7",
   "metadata": {},
   "source": [
    "## Metrics on Partially Ranked Data"
   ]
  },
  {
   "cell_type": "code",
   "execution_count": 22,
   "id": "1f8b9f4e",
   "metadata": {},
   "outputs": [],
   "source": [
    "## Spearman's rho\n",
    "\n",
    "def spearmans_rho2(pi, rho, k):\n",
    "    \n",
    "    n = len(pi)\n",
    "    s1 = 0\n",
    "    s3 = 0\n",
    "    s4 = 0\n",
    "    \n",
    "    A = [i for i in range(n) if (pi[i] <= k and rho[i] <= k)]\n",
    "    B = [i for i in range(n) if (pi[i] <= k and rho[i] > k)]\n",
    "    D = [i for i in range(n) if (pi[i] > k and rho[i] <= k)]        \n",
    "    h = len(B)\n",
    "    s2 = (h**2) * (n-k-h)\n",
    "    \n",
    "    p = [pi[j] for j in B]\n",
    "    p = sorted(p)\n",
    "    s = [rho[j] for j in D]\n",
    "    s = sorted(s)\n",
    "\n",
    "    for i in A:\n",
    "        s1 += math.pow(pi[i] - rho[i], 2)           \n",
    "\n",
    "    for j in range(h):\n",
    "        s3 += math.pow(n + 1 - (j + 1) - p[j], 2) + math.pow(k + (j + 1) - s[j], 2)\n",
    "        s4 += math.pow(k + (j + 1) - p[j], 2) + math.pow(n + 1 - (j + 1) - s[j], 2)\n",
    "    \n",
    "    distance = math.sqrt(s1 + s2 + max(s3,s4))\n",
    "    \n",
    "    return distance"
   ]
  },
  {
   "cell_type": "code",
   "execution_count": 23,
   "id": "2b13934d",
   "metadata": {},
   "outputs": [],
   "source": [
    "x = [2,3,5,1,4]\n",
    "y = [3,5,4,1,2]"
   ]
  },
  {
   "cell_type": "code",
   "execution_count": 24,
   "id": "2a337cd9",
   "metadata": {},
   "outputs": [
    {
     "data": {
      "text/plain": [
       "3.4641016151377544"
      ]
     },
     "execution_count": 24,
     "metadata": {},
     "output_type": "execute_result"
    }
   ],
   "source": [
    "spearmans_rho2(x,y,3)"
   ]
  },
  {
   "cell_type": "code",
   "execution_count": 25,
   "id": "3b763fea",
   "metadata": {},
   "outputs": [],
   "source": [
    "## Spearman's footrule\n",
    "\n",
    "def spearmans_footrule2(pi, rho, k):\n",
    "    \n",
    "    n = len(pi)\n",
    "    s2 = 0\n",
    "    s3 = 0\n",
    "    s4 = 0\n",
    "    \n",
    "    A = [i for i in range(n) if (pi[i] <= k and rho[i] <= k)]\n",
    "    B = [i for i in range(n) if (pi[i] <= k and rho[i] > k)]\n",
    "    D = [i for i in range(n) if (pi[i] > k and rho[i] <= k)]        \n",
    "    h = len(B)\n",
    "    \n",
    "    s1 = h * (2*n + 1 - h)\n",
    "    \n",
    "    for i in A:\n",
    "         s2 += abs(pi[i] - rho[i])\n",
    "    \n",
    "    for i in B:\n",
    "        s3 += pi[i]\n",
    "        \n",
    "    for i in D:\n",
    "        s4 += rho[i]\n",
    "            \n",
    "    distance = s1 + s2 - s3 - s4\n",
    "    \n",
    "    return distance"
   ]
  },
  {
   "cell_type": "code",
   "execution_count": 26,
   "id": "b7b029bc",
   "metadata": {},
   "outputs": [
    {
     "data": {
      "text/plain": [
       "6"
      ]
     },
     "execution_count": 26,
     "metadata": {},
     "output_type": "execute_result"
    }
   ],
   "source": [
    "spearmans_footrule2(x,y,3)"
   ]
  },
  {
   "cell_type": "code",
   "execution_count": 27,
   "id": "ff76ce2e",
   "metadata": {},
   "outputs": [],
   "source": [
    "## Kendall's tau\n",
    "\n",
    "def kendalls_tau2(pi, rho, k):\n",
    "    \n",
    "    n = len(pi)\n",
    "    s1 = 0\n",
    "    s3 = 0\n",
    "    s4 = 0\n",
    "\n",
    "    A = [i for i in range(n) if (pi[i] <= k and rho[i] <= k)]\n",
    "    B = [i for i in range(n) if (pi[i] <= k and rho[i] > k)]\n",
    "    D = [i for i in range(n) if (pi[i] > k and rho[i] <= k)]        \n",
    "    h = len(B)\n",
    "    \n",
    "    s2 = h * (n + k - (h - 1)/2)\n",
    "\n",
    "    for i in A:\n",
    "        for j in A:\n",
    "            if pi[i] < pi[j] and rho[i] > rho[j]:\n",
    "                s1 += 1\n",
    "    \n",
    "    for i in B:\n",
    "        s3 += pi[i]\n",
    "        \n",
    "    for i in D:\n",
    "        s4 += rho[i]\n",
    "            \n",
    "    distance = s1 + s2 - s3 - s4\n",
    "\n",
    "    return distance"
   ]
  },
  {
   "cell_type": "code",
   "execution_count": 28,
   "id": "2705ec39",
   "metadata": {},
   "outputs": [
    {
     "data": {
      "text/plain": [
       "3.0"
      ]
     },
     "execution_count": 28,
     "metadata": {},
     "output_type": "execute_result"
    }
   ],
   "source": [
    "kendalls_tau2(x,y,3)"
   ]
  },
  {
   "cell_type": "markdown",
   "id": "1d773f68",
   "metadata": {},
   "source": [
    "#### FUNCTIONS:"
   ]
  },
  {
   "cell_type": "code",
   "execution_count": 29,
   "id": "0317c122",
   "metadata": {},
   "outputs": [],
   "source": [
    "def n_i(pi):\n",
    "\n",
    "    '''This function takes a list & return the count of each value in the list.'''\n",
    "    n_i = []\n",
    "    for i in range(max(pi)+1):\n",
    "        if pi.count(i) != 0:\n",
    "            n_i.append(pi.count(i))\n",
    "            \n",
    "    return n_i\n",
    "\n",
    "\n",
    "def N_i(n_i):\n",
    "\n",
    "    '''This function takes a list n_i of pi & return the value following the partition of {l, ... ,n} \n",
    "    to {n1+ ... +n r- l+l, ... ,n}.'''\n",
    "    N_i = []\n",
    "    counter = 1\n",
    "    for i in n_i:\n",
    "        temp = []\n",
    "        for j in range(i):\n",
    "            temp.append(counter)\n",
    "            counter += 1\n",
    "        N_i.append(temp)\n",
    "        \n",
    "    return N_i\n",
    "\n",
    "\n",
    "def n_ij(pi,rho):\n",
    "    \n",
    "    '''This function takes a list of pi and a list of rho, return the duplicate values from both of the list. \n",
    "    Then for i and j in the range of the two lists, the function returns the number of elements if they are \n",
    "    in the set of inverse pi(N_i) & inverse rho(N_j).'''\n",
    "    x = sorted(list(dict.fromkeys(pi)))\n",
    "    y = sorted(list(dict.fromkeys(rho)))\n",
    "    \n",
    "    n_ij = []\n",
    "    for i in range(len(x)):\n",
    "        l = []\n",
    "        for j in range(len(y)):\n",
    "            s = 0\n",
    "            for k in range(len(pi)):\n",
    "                if pi[k] == x[i] and rho[k] == y[j]:\n",
    "                    s += 1\n",
    "            l.append(s)\n",
    "        n_ij.append(l)\n",
    "        \n",
    "    return n_ij\n"
   ]
  },
  {
   "cell_type": "markdown",
   "id": "f5f6a282",
   "metadata": {},
   "source": [
    "## Metrics on Same Types of Partially Ranked Data"
   ]
  },
  {
   "cell_type": "code",
   "execution_count": 30,
   "id": "95737856",
   "metadata": {},
   "outputs": [],
   "source": [
    "## Spearman's rho\n",
    "\n",
    "def spearmans_rho3(pi, rho):\n",
    " \n",
    "    r = len(n_i(pi))\n",
    "    s_7 = 0\n",
    "    s_8 = 0\n",
    "    \n",
    "    l = n_i(pi)\n",
    "    m = n_i(rho)\n",
    "    n = n_ij(pi,rho)\n",
    "    \n",
    "    for i in range(r):\n",
    "        for j in range(r):\n",
    "            s1 = sum([l[k] for k in range(i)])\n",
    "            s2 = sum([m[k] for k in range(j)])\n",
    "            s3 = sum([n[i][k] for k in range(j)])\n",
    "            s6 = sum([n[k][j] for k in range(i)])  \n",
    "\n",
    "            s4 = sum([n[k][j] for k in range(i+1,r)])\n",
    "            s5 = sum([n[i][k] for k in range(j+1,r)])\n",
    "\n",
    "            s_7 += n[i][j]*(s1 - s2 + s3 - s4)**2\n",
    "            s_8 += n[i][j]*(s1 - s2 + s5 - s6)**2\n",
    "    \n",
    "    distance = math.sqrt(max(s_7,s_8))\n",
    "    \n",
    "    return distance"
   ]
  },
  {
   "cell_type": "code",
   "execution_count": 31,
   "id": "03612d81",
   "metadata": {},
   "outputs": [],
   "source": [
    "pi = [1,4,1,4,7,4,1,7]\n",
    "rho = [1,1,4,1,4,4,7,7]"
   ]
  },
  {
   "cell_type": "code",
   "execution_count": 32,
   "id": "e0909e47",
   "metadata": {},
   "outputs": [
    {
     "data": {
      "text/plain": [
       "8.602325267042627"
      ]
     },
     "execution_count": 32,
     "metadata": {},
     "output_type": "execute_result"
    }
   ],
   "source": [
    "spearmans_rho3(pi, rho)"
   ]
  },
  {
   "cell_type": "code",
   "execution_count": 33,
   "id": "d0668748",
   "metadata": {},
   "outputs": [],
   "source": [
    "## Spearman's footrule\n",
    "\n",
    "def spearmans_footrule3(pi, rho):\n",
    "    \n",
    "    r = len(n_i(pi))\n",
    "    s_7 = 0\n",
    "    s_8 = 0\n",
    "    \n",
    "    l = n_i(pi)\n",
    "    m = n_i(rho)\n",
    "    n = n_ij(pi,rho)\n",
    "        \n",
    "    for i in range(r):\n",
    "        for j in range(r):\n",
    "            s1 = sum([l[k] for k in range(i)])\n",
    "            s2 = sum([m[k] for k in range(j)])\n",
    "            s3 = sum([n[i][k] for k in range(j)])\n",
    "            s6 = sum([n[k][j] for k in range(i)])  \n",
    "\n",
    "            s4 = sum([n[k][j] for k in range(i+1,r)])\n",
    "            s5 = sum([n[i][k] for k in range(j+1,r)])\n",
    "\n",
    "            s_7 += n[i][j]*abs(s1 - s2 + s3 - s4)          \n",
    "            s_8 += n[i][j]*abs(s1 - s2 + s5 - s6)\n",
    "    \n",
    "    distance = max(s_7, s_8)\n",
    "    \n",
    "    return distance"
   ]
  },
  {
   "cell_type": "code",
   "execution_count": 34,
   "id": "0ea70efa",
   "metadata": {},
   "outputs": [
    {
     "data": {
      "text/plain": [
       "22"
      ]
     },
     "execution_count": 34,
     "metadata": {},
     "output_type": "execute_result"
    }
   ],
   "source": [
    "spearmans_footrule3(pi,rho)"
   ]
  },
  {
   "cell_type": "code",
   "execution_count": 35,
   "id": "065bf500",
   "metadata": {},
   "outputs": [],
   "source": [
    "## Kendall's tau\n",
    "\n",
    "def kendalls_tau3(pi, rho):\n",
    "    \n",
    "    n = len(pi)\n",
    "    r = len(n_i(pi))\n",
    "    s1 = 0\n",
    "\n",
    "    n = n_ij(pi,rho)\n",
    "                \n",
    "    for i in range(r):\n",
    "        for j in range(r):\n",
    "            for i_alt in range(i+1,r):\n",
    "                for j_alt in range(j+1):\n",
    "                    s1 += n[i][j] * n[i_alt][j_alt]\n",
    "    distance = s1\n",
    "    \n",
    "    return distance"
   ]
  },
  {
   "cell_type": "code",
   "execution_count": 36,
   "id": "d2adffb7",
   "metadata": {},
   "outputs": [
    {
     "data": {
      "text/plain": [
       "12"
      ]
     },
     "execution_count": 36,
     "metadata": {},
     "output_type": "execute_result"
    }
   ],
   "source": [
    "kendalls_tau3(pi, rho)"
   ]
  },
  {
   "cell_type": "markdown",
   "id": "fb739d83",
   "metadata": {},
   "source": [
    "## Metrics on Different Types of Partially Ranked Data"
   ]
  },
  {
   "cell_type": "code",
   "execution_count": 37,
   "id": "e72d21e9",
   "metadata": {},
   "outputs": [],
   "source": [
    "## Spearman's rho\n",
    "\n",
    "def spearmans_rho4(pi, rho):\n",
    " \n",
    "    r_1 = len(n_i(pi))\n",
    "    r_2 = len(n_i(rho))\n",
    "    s_7 = 0\n",
    "    s_8 = 0\n",
    "    \n",
    "    l = n_i(pi)\n",
    "    m = n_i(rho)\n",
    "    n = n_ij(pi,rho)\n",
    "    \n",
    "    for i in range(r_1):\n",
    "        for j in range(r_2):\n",
    "            s1 = sum([l[k] for k in range(i)])\n",
    "            s2 = sum([m[k] for k in range(j)])\n",
    "            s3 = sum([n[i][k] for k in range(j)])\n",
    "            s6 = sum([n[k][j] for k in range(i)])  \n",
    "            s4 = sum([n[k][j] for k in range(i+1,r_1)])\n",
    "            s5 = sum([n[i][k] for k in range(j+1,r_2)])\n",
    "            \n",
    "            s_7 += n[i][j]*(s1 - s2 + s3 - s4)**2\n",
    "            s_8 += n[i][j]*(s1 - s2 + s5 - s6)**2\n",
    "    \n",
    "    distance = math.sqrt(max(s_7,s_8))\n",
    "    \n",
    "    return distance"
   ]
  },
  {
   "cell_type": "code",
   "execution_count": 38,
   "id": "33d7bdbc",
   "metadata": {},
   "outputs": [],
   "source": [
    "x = [1,4,1,4,7,4,1,7]\n",
    "y = [1,5,3,3,7,1,7,5]"
   ]
  },
  {
   "cell_type": "code",
   "execution_count": 39,
   "id": "9f4ba4bd",
   "metadata": {},
   "outputs": [
    {
     "data": {
      "text/plain": [
       "8.0"
      ]
     },
     "execution_count": 39,
     "metadata": {},
     "output_type": "execute_result"
    }
   ],
   "source": [
    "spearmans_rho4(x,y)"
   ]
  },
  {
   "cell_type": "code",
   "execution_count": 40,
   "id": "0e7a388a",
   "metadata": {},
   "outputs": [],
   "source": [
    "## Spearman's footrule\n",
    "\n",
    "def spearmans_footrule4(pi, rho):\n",
    "    \n",
    "    r_1 = len(n_i(pi))\n",
    "    r_2 = len(n_i(rho))\n",
    "    s_7 = 0\n",
    "    s_8 = 0\n",
    "    \n",
    "    l = n_i(pi)\n",
    "    m = n_i(rho)\n",
    "    n = n_ij(pi,rho)\n",
    "        \n",
    "    for i in range(r_1):\n",
    "        for j in range(r_2):\n",
    "            s1 = sum([l[k] for k in range(i)])\n",
    "            s2 = sum([m[k] for k in range(j)])\n",
    "            s3 = sum([n[i][k] for k in range(j)])\n",
    "            s6 = sum([n[k][j] for k in range(i)])\n",
    "            s4 = sum([n[k][j] for k in range(i+1,r_1)])\n",
    "            s5 = sum([n[i][k] for k in range(j+1,r_2)])\n",
    "\n",
    "            s_7 += n[i][j]*abs(s1 - s2 + s3 - s4)          \n",
    "            s_8 += n[i][j]*abs(s1 - s2 + s5 - s6)\n",
    "    \n",
    "    distance = max(s_7, s_8)\n",
    "    \n",
    "    return distance"
   ]
  },
  {
   "cell_type": "code",
   "execution_count": 41,
   "id": "01ac5edd",
   "metadata": {},
   "outputs": [
    {
     "data": {
      "text/plain": [
       "18"
      ]
     },
     "execution_count": 41,
     "metadata": {},
     "output_type": "execute_result"
    }
   ],
   "source": [
    "spearmans_footrule4(x,y)"
   ]
  },
  {
   "cell_type": "code",
   "execution_count": 42,
   "id": "2110cbdc",
   "metadata": {},
   "outputs": [],
   "source": [
    "## Kendall's tau\n",
    "\n",
    "def kendalls_tau4(pi, rho):\n",
    "    \n",
    "    r_1 = len(n_i(pi))\n",
    "    r_2 = len(n_i(rho))\n",
    "    s1 = 0\n",
    "    s2 = 0\n",
    "    \n",
    "    n = n_ij(pi,rho)\n",
    "                \n",
    "    for i in range(r_1):\n",
    "        for j in range(r_2):\n",
    "            for i_alt in range(i+1,r_1):\n",
    "                for j_alt in range(j+1):\n",
    "                    s1 += n[i][j] * n[i_alt][j_alt]\n",
    "    \n",
    "    for i in range(r_1):\n",
    "        for j in range(r_2):\n",
    "            for i_alt in range(i,r_1):\n",
    "                for j_alt in range(j):\n",
    "                    s2 += n[i][j] * n[i_alt][j_alt]\n",
    "    \n",
    "    distance = max(s1,s2)\n",
    "    \n",
    "    return distance"
   ]
  },
  {
   "cell_type": "code",
   "execution_count": 43,
   "id": "c5ab1d60",
   "metadata": {},
   "outputs": [
    {
     "data": {
      "text/plain": [
       "12"
      ]
     },
     "execution_count": 43,
     "metadata": {},
     "output_type": "execute_result"
    }
   ],
   "source": [
    "kendalls_tau4(x,y)"
   ]
  },
  {
   "cell_type": "markdown",
   "id": "bd8c5d9a",
   "metadata": {},
   "source": [
    "### Calculate the Distance of each Feature in Year 2012 (with 100 rankings)"
   ]
  },
  {
   "cell_type": "code",
   "execution_count": 44,
   "id": "0b9182ee",
   "metadata": {},
   "outputs": [],
   "source": [
    "# re-rank each column then convert it into a list\n",
    "edu_12 = yr12['quality_of_education'].rank(method='min').astype(int).values.tolist()\n",
    "alu_12 = yr12['alumni_employment'].rank(method='min').astype(int).values.tolist()\n",
    "fac_12 = yr12['quality_of_faculty'].rank(method='min').astype(int).values.tolist()\n",
    "pub_12 = yr12['publications'].rank(method='min').astype(int).values.tolist()\n",
    "inf_12 = yr12['influence'].rank(method='min').astype(int).values.tolist()\n",
    "cit_12 = yr12['citations'].rank(method='min').astype(int).values.tolist()\n",
    "pat_12 = yr12['patents'].rank(method='min').astype(int).values.tolist()"
   ]
  },
  {
   "cell_type": "code",
   "execution_count": 45,
   "id": "e2528d1e",
   "metadata": {},
   "outputs": [],
   "source": [
    "import random\n",
    "\n",
    "e = list(range(1,101))\n",
    "f = e.copy()\n",
    "\n",
    "random.shuffle(e)\n",
    "random.shuffle(f)"
   ]
  },
  {
   "cell_type": "markdown",
   "id": "f01f40ba",
   "metadata": {},
   "source": [
    "##### Spearman's Rho"
   ]
  },
  {
   "cell_type": "code",
   "execution_count": 46,
   "id": "bc3760f3",
   "metadata": {},
   "outputs": [
    {
     "data": {
      "text/plain": [
       "434.1796863051057"
      ]
     },
     "execution_count": 46,
     "metadata": {},
     "output_type": "execute_result"
    }
   ],
   "source": [
    "# Compute two random lists using spearmans_rho4 & set the value as a benchmark\n",
    "spearmans_rho4(e,f)"
   ]
  },
  {
   "cell_type": "code",
   "execution_count": 47,
   "id": "d5ee9b2b",
   "metadata": {},
   "outputs": [
    {
     "data": {
      "text/plain": [
       "[329.2324406859081,\n",
       " 313.8024856498113,\n",
       " 409.7096532912057,\n",
       " 369.2830892418444,\n",
       " 397.5147795994509,\n",
       " 396.4870741903196]"
      ]
     },
     "execution_count": 47,
     "metadata": {},
     "output_type": "execute_result"
    }
   ],
   "source": [
    "# Compute all the distance between any two variables in year 2012 using spearmans_rho4\n",
    "[spearmans_rho4(edu_12, alu_12), spearmans_rho4(edu_12, fac_12), spearmans_rho4(edu_12, pub_12),\n",
    " spearmans_rho4(edu_12, inf_12), spearmans_rho4(edu_12, cit_12), spearmans_rho4(edu_12, pat_12)]"
   ]
  },
  {
   "cell_type": "code",
   "execution_count": 48,
   "id": "03c95356",
   "metadata": {},
   "outputs": [
    {
     "data": {
      "text/plain": [
       "[405.77333574299826,\n",
       " 405.3492321443326,\n",
       " 400.1224812479299,\n",
       " 386.85139265614646,\n",
       " 362.9820932222415]"
      ]
     },
     "execution_count": 48,
     "metadata": {},
     "output_type": "execute_result"
    }
   ],
   "source": [
    "[spearmans_rho4(alu_12, fac_12), spearmans_rho4(alu_12, pub_12), spearmans_rho4(alu_12, inf_12), \n",
    " spearmans_rho4(alu_12, cit_12), spearmans_rho4(alu_12, pat_12)]"
   ]
  },
  {
   "cell_type": "code",
   "execution_count": 49,
   "id": "efca975d",
   "metadata": {},
   "outputs": [
    {
     "data": {
      "text/plain": [
       "[331.1917873377901, 302.08608044727913, 329.6331294029773, 376.27915169458964]"
      ]
     },
     "execution_count": 49,
     "metadata": {},
     "output_type": "execute_result"
    }
   ],
   "source": [
    "[spearmans_rho4(fac_12, pub_12), spearmans_rho4(fac_12, inf_12), \n",
    " spearmans_rho4(fac_12, cit_12), spearmans_rho4(fac_12, pat_12)]"
   ]
  },
  {
   "cell_type": "code",
   "execution_count": 50,
   "id": "2fd26edb",
   "metadata": {},
   "outputs": [
    {
     "data": {
      "text/plain": [
       "[178.39843048636948, 134.2013412749664, 306.0098037645199]"
      ]
     },
     "execution_count": 50,
     "metadata": {},
     "output_type": "execute_result"
    }
   ],
   "source": [
    "[spearmans_rho4(pub_12, inf_12), spearmans_rho4(pub_12, cit_12), spearmans_rho4(pub_12, pat_12)]"
   ]
  },
  {
   "cell_type": "code",
   "execution_count": 51,
   "id": "70979a80",
   "metadata": {},
   "outputs": [
    {
     "data": {
      "text/plain": [
       "[169.5464538113375, 344.7955916191505]"
      ]
     },
     "execution_count": 51,
     "metadata": {},
     "output_type": "execute_result"
    }
   ],
   "source": [
    "[spearmans_rho4(inf_12, cit_12), spearmans_rho4(inf_12, pat_12)]"
   ]
  },
  {
   "cell_type": "code",
   "execution_count": 52,
   "id": "f63772e6",
   "metadata": {},
   "outputs": [
    {
     "data": {
      "text/plain": [
       "315.4013316395478"
      ]
     },
     "execution_count": 52,
     "metadata": {},
     "output_type": "execute_result"
    }
   ],
   "source": [
    "spearmans_rho4(cit_12, pat_12)"
   ]
  },
  {
   "cell_type": "markdown",
   "id": "9a40f5b1",
   "metadata": {},
   "source": [
    "##### Spearman's Footrule"
   ]
  },
  {
   "cell_type": "code",
   "execution_count": 53,
   "id": "08d3af00",
   "metadata": {},
   "outputs": [
    {
     "data": {
      "text/plain": [
       "3562"
      ]
     },
     "execution_count": 53,
     "metadata": {},
     "output_type": "execute_result"
    }
   ],
   "source": [
    "# Compute two random lists using spearmans_rho4 & set the value as a benchmark\n",
    "spearmans_footrule4(e,f)"
   ]
  },
  {
   "cell_type": "code",
   "execution_count": 54,
   "id": "be74d8c5",
   "metadata": {},
   "outputs": [
    {
     "data": {
      "text/plain": [
       "[2674, 2408, 3242, 2928, 3150, 3352]"
      ]
     },
     "execution_count": 54,
     "metadata": {},
     "output_type": "execute_result"
    }
   ],
   "source": [
    "# Compute all the distance between any two variables in year 2012 using spearmans_footrule4\n",
    "[spearmans_footrule4(edu_12, alu_12), spearmans_footrule4(edu_12, fac_12), spearmans_footrule4(edu_12, pub_12),\n",
    " spearmans_footrule4(edu_12, inf_12), spearmans_footrule4(edu_12, cit_12), spearmans_footrule4(edu_12, pat_12)]"
   ]
  },
  {
   "cell_type": "code",
   "execution_count": 55,
   "id": "4a9878d8",
   "metadata": {},
   "outputs": [
    {
     "data": {
      "text/plain": [
       "[3226, 3128, 3098, 2942, 2974]"
      ]
     },
     "execution_count": 55,
     "metadata": {},
     "output_type": "execute_result"
    }
   ],
   "source": [
    "[spearmans_footrule4(alu_12, fac_12), spearmans_footrule4(alu_12, pub_12), spearmans_footrule4(alu_12, inf_12), \n",
    " spearmans_footrule4(alu_12, cit_12), spearmans_footrule4(alu_12, pat_12)]"
   ]
  },
  {
   "cell_type": "code",
   "execution_count": 56,
   "id": "0ac13fd3",
   "metadata": {},
   "outputs": [
    {
     "data": {
      "text/plain": [
       "[2670, 2334, 2626, 3052]"
      ]
     },
     "execution_count": 56,
     "metadata": {},
     "output_type": "execute_result"
    }
   ],
   "source": [
    "[spearmans_footrule4(fac_12, pub_12), spearmans_footrule4(fac_12, inf_12), \n",
    " spearmans_footrule4(fac_12, cit_12), spearmans_footrule4(fac_12, pat_12)]"
   ]
  },
  {
   "cell_type": "code",
   "execution_count": 57,
   "id": "d6dbe06d",
   "metadata": {},
   "outputs": [
    {
     "data": {
      "text/plain": [
       "[1332, 998, 2418]"
      ]
     },
     "execution_count": 57,
     "metadata": {},
     "output_type": "execute_result"
    }
   ],
   "source": [
    "[spearmans_footrule4(pub_12, inf_12), spearmans_footrule4(pub_12, cit_12), spearmans_footrule4(pub_12, pat_12)]"
   ]
  },
  {
   "cell_type": "code",
   "execution_count": 58,
   "id": "bc1898a5",
   "metadata": {},
   "outputs": [
    {
     "data": {
      "text/plain": [
       "[1232, 2716]"
      ]
     },
     "execution_count": 58,
     "metadata": {},
     "output_type": "execute_result"
    }
   ],
   "source": [
    "[spearmans_footrule4(inf_12, cit_12), spearmans_footrule4(inf_12, pat_12)]"
   ]
  },
  {
   "cell_type": "code",
   "execution_count": 59,
   "id": "0425e05e",
   "metadata": {},
   "outputs": [
    {
     "data": {
      "text/plain": [
       "2440"
      ]
     },
     "execution_count": 59,
     "metadata": {},
     "output_type": "execute_result"
    }
   ],
   "source": [
    "spearmans_footrule4(cit_12, pat_12)"
   ]
  },
  {
   "cell_type": "markdown",
   "id": "fc928358",
   "metadata": {},
   "source": [
    "##### Kendall's Tau"
   ]
  },
  {
   "cell_type": "code",
   "execution_count": 60,
   "id": "633f7026",
   "metadata": {},
   "outputs": [
    {
     "data": {
      "text/plain": [
       "2704"
      ]
     },
     "execution_count": 60,
     "metadata": {},
     "output_type": "execute_result"
    }
   ],
   "source": [
    "# Compute two random lists using kendalls_tau4 & set the value as a benchmark\n",
    "kendalls_tau4(e,f)"
   ]
  },
  {
   "cell_type": "code",
   "execution_count": 61,
   "id": "e7647120",
   "metadata": {},
   "outputs": [
    {
     "data": {
      "text/plain": [
       "[1836, 1803, 2553, 2209, 2464, 2330]"
      ]
     },
     "execution_count": 61,
     "metadata": {},
     "output_type": "execute_result"
    }
   ],
   "source": [
    "# Compute all the distance between any two variables in year 2012 using kendalls_tau4\n",
    "[kendalls_tau4(edu_12, alu_12), kendalls_tau4(edu_12, fac_12), kendalls_tau4(edu_12, pub_12),\n",
    " kendalls_tau4(edu_12, inf_12), kendalls_tau4(edu_12, cit_12), kendalls_tau4(edu_12, pat_12)]"
   ]
  },
  {
   "cell_type": "code",
   "execution_count": 62,
   "id": "1662792e",
   "metadata": {},
   "outputs": [
    {
     "data": {
      "text/plain": [
       "[2646, 2618, 2593, 2460, 2019]"
      ]
     },
     "execution_count": 62,
     "metadata": {},
     "output_type": "execute_result"
    }
   ],
   "source": [
    "[kendalls_tau4(alu_12, fac_12), kendalls_tau4(alu_12, pub_12), kendalls_tau4(alu_12, inf_12), \n",
    " kendalls_tau4(alu_12, cit_12), kendalls_tau4(alu_12, pat_12)]"
   ]
  },
  {
   "cell_type": "code",
   "execution_count": 63,
   "id": "2f0f4c64",
   "metadata": {},
   "outputs": [
    {
     "data": {
      "text/plain": [
       "[1910, 1693, 1918, 2308]"
      ]
     },
     "execution_count": 63,
     "metadata": {},
     "output_type": "execute_result"
    }
   ],
   "source": [
    "[kendalls_tau4(fac_12, pub_12), kendalls_tau4(fac_12, inf_12), \n",
    " kendalls_tau4(fac_12, cit_12), kendalls_tau4(fac_12, pat_12)]"
   ]
  },
  {
   "cell_type": "code",
   "execution_count": 64,
   "id": "efa7a1c1",
   "metadata": {},
   "outputs": [
    {
     "data": {
      "text/plain": [
       "[904, 675, 1785]"
      ]
     },
     "execution_count": 64,
     "metadata": {},
     "output_type": "execute_result"
    }
   ],
   "source": [
    "[kendalls_tau4(pub_12, inf_12), kendalls_tau4(pub_12, cit_12), kendalls_tau4(pub_12, pat_12)]"
   ]
  },
  {
   "cell_type": "code",
   "execution_count": 65,
   "id": "2bf53543",
   "metadata": {},
   "outputs": [
    {
     "data": {
      "text/plain": [
       "[835, 2074]"
      ]
     },
     "execution_count": 65,
     "metadata": {},
     "output_type": "execute_result"
    }
   ],
   "source": [
    "[kendalls_tau4(inf_12, cit_12), kendalls_tau4(inf_12, pat_12)]"
   ]
  },
  {
   "cell_type": "code",
   "execution_count": 66,
   "id": "7008d354",
   "metadata": {},
   "outputs": [
    {
     "data": {
      "text/plain": [
       "1885"
      ]
     },
     "execution_count": 66,
     "metadata": {},
     "output_type": "execute_result"
    }
   ],
   "source": [
    "kendalls_tau4(cit_12, pat_12)"
   ]
  },
  {
   "cell_type": "markdown",
   "id": "6eba834c",
   "metadata": {},
   "source": [
    "### Calculate the Distance of each feature in Year 2013"
   ]
  },
  {
   "cell_type": "code",
   "execution_count": 67,
   "id": "a85fdf38",
   "metadata": {},
   "outputs": [],
   "source": [
    "# re-rank each column then convert it into a list\n",
    "edu_13 = yr13['quality_of_education'].rank(method='min').astype(int).values.tolist()\n",
    "alu_13 = yr13['alumni_employment'].rank(method='min').astype(int).values.tolist()\n",
    "fac_13 = yr13['quality_of_faculty'].rank(method='min').astype(int).values.tolist()\n",
    "pub_13 = yr13['publications'].rank(method='min').astype(int).values.tolist()\n",
    "inf_13 = yr13['influence'].rank(method='min').astype(int).values.tolist()\n",
    "cit_13 = yr13['citations'].rank(method='min').astype(int).values.tolist()\n",
    "pat_13 = yr13['patents'].rank(method='min').astype(int).values.tolist()"
   ]
  },
  {
   "cell_type": "markdown",
   "id": "c0e550d7",
   "metadata": {},
   "source": [
    "##### Spearman's Rho"
   ]
  },
  {
   "cell_type": "code",
   "execution_count": 68,
   "id": "268bf585",
   "metadata": {},
   "outputs": [
    {
     "data": {
      "text/plain": [
       "[377.82270974625123,\n",
       " 296.97474640110397,\n",
       " 382.8707353663897,\n",
       " 360.16385160090675,\n",
       " 390.3460003637798,\n",
       " 368.07607909235287]"
      ]
     },
     "execution_count": 68,
     "metadata": {},
     "output_type": "execute_result"
    }
   ],
   "source": [
    "# Compute all the distance between any two variables in year 2013 using spearmans_rho4\n",
    "[spearmans_rho4(edu_13, alu_13), spearmans_rho4(edu_13, fac_13), spearmans_rho4(edu_13, pub_13),\n",
    " spearmans_rho4(edu_13, inf_13), spearmans_rho4(edu_13, cit_13), spearmans_rho4(edu_13, pat_13)]"
   ]
  },
  {
   "cell_type": "code",
   "execution_count": 69,
   "id": "dada9d9d",
   "metadata": {},
   "outputs": [
    {
     "data": {
      "text/plain": [
       "[411.599319727329,\n",
       " 392.3187479588504,\n",
       " 395.8636128769604,\n",
       " 388.57431721615364,\n",
       " 364.29658247093124]"
      ]
     },
     "execution_count": 69,
     "metadata": {},
     "output_type": "execute_result"
    }
   ],
   "source": [
    "[spearmans_rho4(alu_13, fac_13), spearmans_rho4(alu_13, pub_13), spearmans_rho4(alu_13, inf_13), \n",
    " spearmans_rho4(alu_13, cit_13), spearmans_rho4(alu_13, pat_13)]"
   ]
  },
  {
   "cell_type": "code",
   "execution_count": 70,
   "id": "c8bed5c3",
   "metadata": {},
   "outputs": [
    {
     "data": {
      "text/plain": [
       "[344.8622913569995, 310.6831183054528, 339.31106672196825, 378.1692742674899]"
      ]
     },
     "execution_count": 70,
     "metadata": {},
     "output_type": "execute_result"
    }
   ],
   "source": [
    "[spearmans_rho4(fac_13, pub_13), spearmans_rho4(fac_13, inf_13), \n",
    " spearmans_rho4(fac_13, cit_13), spearmans_rho4(fac_13, pat_13)]"
   ]
  },
  {
   "cell_type": "code",
   "execution_count": 71,
   "id": "cffd143c",
   "metadata": {},
   "outputs": [
    {
     "data": {
      "text/plain": [
       "[184.1738309315414, 135.9852933224766, 313.3464536260144]"
      ]
     },
     "execution_count": 71,
     "metadata": {},
     "output_type": "execute_result"
    }
   ],
   "source": [
    "[spearmans_rho4(pub_13, inf_13), spearmans_rho4(pub_13, cit_13), spearmans_rho4(pub_13, pat_13)]"
   ]
  },
  {
   "cell_type": "code",
   "execution_count": 72,
   "id": "c6870d69",
   "metadata": {},
   "outputs": [
    {
     "data": {
      "text/plain": [
       "[174.33301465872722, 354.4657952468757]"
      ]
     },
     "execution_count": 72,
     "metadata": {},
     "output_type": "execute_result"
    }
   ],
   "source": [
    "[spearmans_rho4(inf_13, cit_13), spearmans_rho4(inf_13, pat_13)]"
   ]
  },
  {
   "cell_type": "code",
   "execution_count": 73,
   "id": "2bdf6a7a",
   "metadata": {},
   "outputs": [
    {
     "data": {
      "text/plain": [
       "325.963188105651"
      ]
     },
     "execution_count": 73,
     "metadata": {},
     "output_type": "execute_result"
    }
   ],
   "source": [
    "spearmans_rho4(cit_13, pat_13)"
   ]
  },
  {
   "cell_type": "markdown",
   "id": "502ad403",
   "metadata": {},
   "source": [
    "##### Spearman's footrule"
   ]
  },
  {
   "cell_type": "code",
   "execution_count": 74,
   "id": "cdc90b09",
   "metadata": {},
   "outputs": [
    {
     "data": {
      "text/plain": [
       "[3180, 2270, 3090, 2856, 2564, 3084]"
      ]
     },
     "execution_count": 74,
     "metadata": {},
     "output_type": "execute_result"
    }
   ],
   "source": [
    "# Compute all the distance between any two variables in year 2013 using spearmans_footrule4\n",
    "[spearmans_footrule4(edu_13, alu_13), spearmans_footrule4(edu_13, fac_13), spearmans_footrule4(edu_13, pub_13),\n",
    " spearmans_footrule4(edu_13, inf_13), spearmans_footrule4(edu_12, cit_13), spearmans_footrule4(edu_13, pat_13)]"
   ]
  },
  {
   "cell_type": "code",
   "execution_count": 75,
   "id": "1447efba",
   "metadata": {},
   "outputs": [
    {
     "data": {
      "text/plain": [
       "[3248, 3166, 3196, 3116, 3032]"
      ]
     },
     "execution_count": 75,
     "metadata": {},
     "output_type": "execute_result"
    }
   ],
   "source": [
    "[spearmans_footrule4(alu_13, fac_13), spearmans_footrule4(alu_13, pub_13), spearmans_footrule4(alu_13, inf_13), \n",
    " spearmans_footrule4(alu_13, cit_13), spearmans_footrule4(alu_13, pat_13)]"
   ]
  },
  {
   "cell_type": "code",
   "execution_count": 76,
   "id": "c0c6016e",
   "metadata": {},
   "outputs": [
    {
     "data": {
      "text/plain": [
       "[2824, 2496, 2712, 3026]"
      ]
     },
     "execution_count": 76,
     "metadata": {},
     "output_type": "execute_result"
    }
   ],
   "source": [
    "[spearmans_footrule4(fac_13, pub_13), spearmans_footrule4(fac_13, inf_13), \n",
    " spearmans_footrule4(fac_13, cit_13), spearmans_footrule4(fac_13, pat_13)]"
   ]
  },
  {
   "cell_type": "code",
   "execution_count": 77,
   "id": "0c69f9be",
   "metadata": {},
   "outputs": [
    {
     "data": {
      "text/plain": [
       "[1420, 1022, 2568]"
      ]
     },
     "execution_count": 77,
     "metadata": {},
     "output_type": "execute_result"
    }
   ],
   "source": [
    "[spearmans_footrule4(pub_13, inf_13), spearmans_footrule4(pub_13, cit_13), spearmans_footrule4(pub_13, pat_13)]"
   ]
  },
  {
   "cell_type": "code",
   "execution_count": 78,
   "id": "762f8f94",
   "metadata": {},
   "outputs": [
    {
     "data": {
      "text/plain": [
       "[1292, 2868]"
      ]
     },
     "execution_count": 78,
     "metadata": {},
     "output_type": "execute_result"
    }
   ],
   "source": [
    "[spearmans_footrule4(inf_13, cit_13), spearmans_footrule4(inf_13, pat_13)]"
   ]
  },
  {
   "cell_type": "code",
   "execution_count": 79,
   "id": "50475e41",
   "metadata": {},
   "outputs": [
    {
     "data": {
      "text/plain": [
       "2650"
      ]
     },
     "execution_count": 79,
     "metadata": {},
     "output_type": "execute_result"
    }
   ],
   "source": [
    "spearmans_footrule4(cit_13, pat_13)"
   ]
  },
  {
   "cell_type": "markdown",
   "id": "629a96a8",
   "metadata": {},
   "source": [
    "##### Kendall's Tau"
   ]
  },
  {
   "cell_type": "code",
   "execution_count": 80,
   "id": "f23d6e39",
   "metadata": {},
   "outputs": [
    {
     "data": {
      "text/plain": [
       "[2114, 1699, 2433, 2150, 2515, 2127]"
      ]
     },
     "execution_count": 80,
     "metadata": {},
     "output_type": "execute_result"
    }
   ],
   "source": [
    "# Compute all the distance between any two variables in year 2013 using kendalls_tau4\n",
    "[kendalls_tau4(edu_13, alu_13), kendalls_tau4(edu_13, fac_13), kendalls_tau4(edu_13, pub_13),\n",
    " kendalls_tau4(edu_13, inf_13), kendalls_tau4(edu_13, cit_13), kendalls_tau4(edu_13, pat_13)]"
   ]
  },
  {
   "cell_type": "code",
   "execution_count": 81,
   "id": "ccce4c21",
   "metadata": {},
   "outputs": [
    {
     "data": {
      "text/plain": [
       "[2765, 2546, 2531, 2544, 2127]"
      ]
     },
     "execution_count": 81,
     "metadata": {},
     "output_type": "execute_result"
    }
   ],
   "source": [
    "[kendalls_tau4(alu_13, fac_13), kendalls_tau4(alu_13, pub_13), kendalls_tau4(alu_13, inf_13), \n",
    " kendalls_tau4(alu_13, cit_13), kendalls_tau4(alu_13, pat_13)]"
   ]
  },
  {
   "cell_type": "code",
   "execution_count": 82,
   "id": "f35a021e",
   "metadata": {},
   "outputs": [
    {
     "data": {
      "text/plain": [
       "[2010, 1785, 1985, 2334]"
      ]
     },
     "execution_count": 82,
     "metadata": {},
     "output_type": "execute_result"
    }
   ],
   "source": [
    "[kendalls_tau4(fac_13, pub_13), kendalls_tau4(fac_13, inf_13), \n",
    " kendalls_tau4(fac_13, cit_13), kendalls_tau4(fac_13, pat_13)]"
   ]
  },
  {
   "cell_type": "code",
   "execution_count": 83,
   "id": "828706d2",
   "metadata": {},
   "outputs": [
    {
     "data": {
      "text/plain": [
       "[947, 681, 1839]"
      ]
     },
     "execution_count": 83,
     "metadata": {},
     "output_type": "execute_result"
    }
   ],
   "source": [
    "[kendalls_tau4(pub_13, inf_13), kendalls_tau4(pub_13, cit_13), kendalls_tau4(pub_13, pat_13)]"
   ]
  },
  {
   "cell_type": "code",
   "execution_count": 84,
   "id": "133b9516",
   "metadata": {},
   "outputs": [
    {
     "data": {
      "text/plain": [
       "[908, 2115]"
      ]
     },
     "execution_count": 84,
     "metadata": {},
     "output_type": "execute_result"
    }
   ],
   "source": [
    "[kendalls_tau4(inf_13, cit_13), kendalls_tau4(inf_13, pat_13)]"
   ]
  },
  {
   "cell_type": "code",
   "execution_count": 85,
   "id": "7f13c828",
   "metadata": {},
   "outputs": [
    {
     "data": {
      "text/plain": [
       "1933"
      ]
     },
     "execution_count": 85,
     "metadata": {},
     "output_type": "execute_result"
    }
   ],
   "source": [
    "kendalls_tau4(cit_13, pat_13)"
   ]
  },
  {
   "cell_type": "markdown",
   "id": "49a3a097",
   "metadata": {},
   "source": [
    "### Calculate the Distance of each feature in Year 2014 (with the top 100 rankings)"
   ]
  },
  {
   "cell_type": "code",
   "execution_count": 86,
   "id": "88025668",
   "metadata": {},
   "outputs": [],
   "source": [
    "# re-rank the top 100 universities and convert into a list\n",
    "edu_14 = yr14['quality_of_education'][:100].rank(method='min').astype(int).values.tolist()\n",
    "alu_14 = yr14['alumni_employment'][:100].rank(method='min').astype(int).values.tolist()\n",
    "fac_14 = yr14['quality_of_faculty'][:100].rank(method='min').astype(int).values.tolist()\n",
    "pub_14 = yr14['publications'][:100].rank(method='min').astype(int).values.tolist()\n",
    "inf_14 = yr14['influence'][:100].rank(method='min').astype(int).values.tolist()\n",
    "cit_14 = yr14['citations'][:100].rank(method='min').astype(int).values.tolist()\n",
    "pat_14 = yr14['patents'][:100].rank(method='min').astype(int).values.tolist()"
   ]
  },
  {
   "cell_type": "markdown",
   "id": "58b4127d",
   "metadata": {},
   "source": [
    "##### Spearman's Rho"
   ]
  },
  {
   "cell_type": "code",
   "execution_count": 87,
   "id": "12de6a2d",
   "metadata": {},
   "outputs": [
    {
     "data": {
      "text/plain": [
       "[392.6397840260205,\n",
       " 234.1580662714825,\n",
       " 338.42281246984516,\n",
       " 290.86422949548125,\n",
       " 327.4629750063356,\n",
       " 382.24599409280927]"
      ]
     },
     "execution_count": 87,
     "metadata": {},
     "output_type": "execute_result"
    }
   ],
   "source": [
    "# Compute all the distance between any two variables in year 2014 using spearmans_rho4\n",
    "[spearmans_rho4(edu_14, alu_14), spearmans_rho4(edu_14, fac_14), spearmans_rho4(edu_14, pub_14),\n",
    " spearmans_rho4(edu_14, inf_14), spearmans_rho4(edu_14, cit_14), spearmans_rho4(edu_14, pat_14)]"
   ]
  },
  {
   "cell_type": "code",
   "execution_count": 88,
   "id": "595fa7b5",
   "metadata": {},
   "outputs": [
    {
     "data": {
      "text/plain": [
       "[401.340254646852,\n",
       " 354.79853438254224,\n",
       " 382.2721543612613,\n",
       " 354.34728727619745,\n",
       " 335.9821423825975]"
      ]
     },
     "execution_count": 88,
     "metadata": {},
     "output_type": "execute_result"
    }
   ],
   "source": [
    "[spearmans_rho4(alu_14, fac_14), spearmans_rho4(alu_14, pub_14), spearmans_rho4(alu_14, inf_14), \n",
    " spearmans_rho4(alu_14, cit_14), spearmans_rho4(alu_14, pat_14)]"
   ]
  },
  {
   "cell_type": "code",
   "execution_count": 89,
   "id": "48564b49",
   "metadata": {},
   "outputs": [
    {
     "data": {
      "text/plain": [
       "[325.5057603176939, 231.80595333166056, 278.10789273229915, 366.71242138765905]"
      ]
     },
     "execution_count": 89,
     "metadata": {},
     "output_type": "execute_result"
    }
   ],
   "source": [
    "[spearmans_rho4(fac_14, pub_14), spearmans_rho4(fac_14, inf_14), \n",
    " spearmans_rho4(fac_14, cit_14), spearmans_rho4(fac_14, pat_14)]"
   ]
  },
  {
   "cell_type": "code",
   "execution_count": 90,
   "id": "53086f9b",
   "metadata": {},
   "outputs": [
    {
     "data": {
      "text/plain": [
       "[190.22092419079453, 176.86152775547316, 297.14306318674176]"
      ]
     },
     "execution_count": 90,
     "metadata": {},
     "output_type": "execute_result"
    }
   ],
   "source": [
    "[spearmans_rho4(pub_14, inf_14), spearmans_rho4(pub_14, cit_14), spearmans_rho4(pub_14, pat_14)]"
   ]
  },
  {
   "cell_type": "code",
   "execution_count": 91,
   "id": "91f31a1c",
   "metadata": {},
   "outputs": [
    {
     "data": {
      "text/plain": [
       "[156.81836627130127, 331.95481620244647]"
      ]
     },
     "execution_count": 91,
     "metadata": {},
     "output_type": "execute_result"
    }
   ],
   "source": [
    "[spearmans_rho4(inf_14, cit_14), spearmans_rho4(inf_14, pat_14)]"
   ]
  },
  {
   "cell_type": "code",
   "execution_count": 92,
   "id": "4d08599e",
   "metadata": {},
   "outputs": [
    {
     "data": {
      "text/plain": [
       "321.6333316060386"
      ]
     },
     "execution_count": 92,
     "metadata": {},
     "output_type": "execute_result"
    }
   ],
   "source": [
    "spearmans_rho4(cit_14, pat_14)"
   ]
  },
  {
   "cell_type": "markdown",
   "id": "a98fd328",
   "metadata": {},
   "source": [
    "##### Spearman's Footrule"
   ]
  },
  {
   "cell_type": "code",
   "execution_count": 93,
   "id": "e24a6f94",
   "metadata": {},
   "outputs": [
    {
     "data": {
      "text/plain": [
       "[3056, 1686, 2656, 2120, 2554, 3032]"
      ]
     },
     "execution_count": 93,
     "metadata": {},
     "output_type": "execute_result"
    }
   ],
   "source": [
    "# Compute all the distance between any two variables in year 2014 using spearmans_footrule4\n",
    "[spearmans_footrule4(edu_14, alu_14), spearmans_footrule4(edu_14, fac_14), spearmans_footrule4(edu_14, pub_14),\n",
    " spearmans_footrule4(edu_14, inf_14), spearmans_footrule4(edu_14, cit_14), spearmans_footrule4(edu_14, pat_14)]"
   ]
  },
  {
   "cell_type": "code",
   "execution_count": 94,
   "id": "9b1d73be",
   "metadata": {},
   "outputs": [
    {
     "data": {
      "text/plain": [
       "[3076, 2672, 2836, 2684, 2600]"
      ]
     },
     "execution_count": 94,
     "metadata": {},
     "output_type": "execute_result"
    }
   ],
   "source": [
    "[spearmans_footrule4(alu_14, fac_14), spearmans_footrule4(alu_14, pub_14), spearmans_footrule4(alu_14, inf_14), \n",
    " spearmans_footrule4(alu_14, cit_14), spearmans_footrule4(alu_14, pat_14)]"
   ]
  },
  {
   "cell_type": "code",
   "execution_count": 95,
   "id": "d5ef058c",
   "metadata": {},
   "outputs": [
    {
     "data": {
      "text/plain": [
       "[2580, 1766, 2092, 2850]"
      ]
     },
     "execution_count": 95,
     "metadata": {},
     "output_type": "execute_result"
    }
   ],
   "source": [
    "[spearmans_footrule4(fac_14, pub_14), spearmans_footrule4(fac_14, inf_14), \n",
    " spearmans_footrule4(fac_14, cit_14), spearmans_footrule4(fac_14, pat_14)]"
   ]
  },
  {
   "cell_type": "code",
   "execution_count": 96,
   "id": "cfe5cbad",
   "metadata": {},
   "outputs": [
    {
     "data": {
      "text/plain": [
       "[1312, 1286, 2394]"
      ]
     },
     "execution_count": 96,
     "metadata": {},
     "output_type": "execute_result"
    }
   ],
   "source": [
    "[spearmans_footrule4(pub_14, inf_14), spearmans_footrule4(pub_14, cit_14), spearmans_footrule4(pub_14, pat_14)]"
   ]
  },
  {
   "cell_type": "code",
   "execution_count": 97,
   "id": "ebfd58f9",
   "metadata": {},
   "outputs": [
    {
     "data": {
      "text/plain": [
       "[1154, 2576]"
      ]
     },
     "execution_count": 97,
     "metadata": {},
     "output_type": "execute_result"
    }
   ],
   "source": [
    "[spearmans_footrule4(inf_14, cit_14), spearmans_footrule4(inf_14, pat_14)]"
   ]
  },
  {
   "cell_type": "code",
   "execution_count": 98,
   "id": "0628d06f",
   "metadata": {},
   "outputs": [
    {
     "data": {
      "text/plain": [
       "2396"
      ]
     },
     "execution_count": 98,
     "metadata": {},
     "output_type": "execute_result"
    }
   ],
   "source": [
    "spearmans_footrule4(cit_14, pat_14)"
   ]
  },
  {
   "cell_type": "markdown",
   "id": "10cafd7f",
   "metadata": {},
   "source": [
    "##### Kendall's Tau"
   ]
  },
  {
   "cell_type": "code",
   "execution_count": 99,
   "id": "a3361eda",
   "metadata": {},
   "outputs": [
    {
     "data": {
      "text/plain": [
       "[2362, 1236, 1958, 1597, 1870, 2267]"
      ]
     },
     "execution_count": 99,
     "metadata": {},
     "output_type": "execute_result"
    }
   ],
   "source": [
    "# Compute all the distance between any two variables in year 2014 using kendalls_tau4\n",
    "[kendalls_tau4(edu_14, alu_14), kendalls_tau4(edu_14, fac_14), kendalls_tau4(edu_14, pub_14),\n",
    " kendalls_tau4(edu_14, inf_14), kendalls_tau4(edu_14, cit_14), kendalls_tau4(edu_14, pat_14)]"
   ]
  },
  {
   "cell_type": "code",
   "execution_count": 100,
   "id": "067319b1",
   "metadata": {},
   "outputs": [
    {
     "data": {
      "text/plain": [
       "[2446, 2063, 2271, 2050, 1914]"
      ]
     },
     "execution_count": 100,
     "metadata": {},
     "output_type": "execute_result"
    }
   ],
   "source": [
    "[kendalls_tau4(alu_14, fac_14), kendalls_tau4(alu_14, pub_14), kendalls_tau4(alu_14, inf_14), \n",
    " kendalls_tau4(alu_14, cit_14), kendalls_tau4(alu_14, pat_14)]"
   ]
  },
  {
   "cell_type": "code",
   "execution_count": 101,
   "id": "0d819373",
   "metadata": {},
   "outputs": [
    {
     "data": {
      "text/plain": [
       "[1871, 1280, 1510, 2152]"
      ]
     },
     "execution_count": 101,
     "metadata": {},
     "output_type": "execute_result"
    }
   ],
   "source": [
    "[kendalls_tau4(fac_14, pub_14), kendalls_tau4(fac_14, inf_14), \n",
    " kendalls_tau4(fac_14, cit_14), kendalls_tau4(fac_14, pat_14)]"
   ]
  },
  {
   "cell_type": "code",
   "execution_count": 102,
   "id": "e708d0e1",
   "metadata": {},
   "outputs": [
    {
     "data": {
      "text/plain": [
       "[971, 922, 1679]"
      ]
     },
     "execution_count": 102,
     "metadata": {},
     "output_type": "execute_result"
    }
   ],
   "source": [
    "[kendalls_tau4(pub_14, inf_14), kendalls_tau4(pub_14, cit_14), kendalls_tau4(pub_14, pat_14)]"
   ]
  },
  {
   "cell_type": "code",
   "execution_count": 103,
   "id": "64067919",
   "metadata": {},
   "outputs": [
    {
     "data": {
      "text/plain": [
       "[831, 1902]"
      ]
     },
     "execution_count": 103,
     "metadata": {},
     "output_type": "execute_result"
    }
   ],
   "source": [
    "[kendalls_tau4(inf_14, cit_14), kendalls_tau4(inf_14, pat_14)]"
   ]
  },
  {
   "cell_type": "code",
   "execution_count": 104,
   "id": "b3909ecd",
   "metadata": {},
   "outputs": [
    {
     "data": {
      "text/plain": [
       "1774"
      ]
     },
     "execution_count": 104,
     "metadata": {},
     "output_type": "execute_result"
    }
   ],
   "source": [
    "kendalls_tau4(cit_14, pat_14)"
   ]
  },
  {
   "cell_type": "markdown",
   "id": "c079c438",
   "metadata": {},
   "source": [
    "### Calculate the Distance of each feature in Year 2015 (with the top 100 rankings)"
   ]
  },
  {
   "cell_type": "code",
   "execution_count": 105,
   "id": "9be21556",
   "metadata": {},
   "outputs": [],
   "source": [
    "# re-rank the top 100 universities and convert into a list\n",
    "edu_15 = yr15['quality_of_education'][:100].rank(method='min').astype(int).values.tolist()\n",
    "alu_15 = yr15['alumni_employment'][:100].rank(method='min').astype(int).values.tolist()\n",
    "fac_15 = yr15['quality_of_faculty'][:100].rank(method='min').astype(int).values.tolist()\n",
    "pub_15 = yr15['publications'][:100].rank(method='min').astype(int).values.tolist()\n",
    "inf_15 = yr15['influence'][:100].rank(method='min').astype(int).values.tolist()\n",
    "cit_15 = yr15['citations'][:100].rank(method='min').astype(int).values.tolist()\n",
    "pat_15 = yr15['patents'][:100].rank(method='min').astype(int).values.tolist()"
   ]
  },
  {
   "cell_type": "markdown",
   "id": "a3436426",
   "metadata": {},
   "source": [
    "##### Spearman's Rho"
   ]
  },
  {
   "cell_type": "code",
   "execution_count": 106,
   "id": "a154a25c",
   "metadata": {},
   "outputs": [
    {
     "data": {
      "text/plain": [
       "[370.04864545083797,\n",
       " 225.68562204978855,\n",
       " 332.5056390499265,\n",
       " 286.9006796785257,\n",
       " 332.6048706799105,\n",
       " 371.5238888685356]"
      ]
     },
     "execution_count": 106,
     "metadata": {},
     "output_type": "execute_result"
    }
   ],
   "source": [
    "# Compute all the distance between any two variables in year 2015 using spearmans_rho4\n",
    "[spearmans_rho4(edu_15, alu_15), spearmans_rho4(edu_15, fac_15), spearmans_rho4(edu_15, pub_15),\n",
    " spearmans_rho4(edu_15, inf_15), spearmans_rho4(edu_15, cit_15), spearmans_rho4(edu_15, pat_15)]"
   ]
  },
  {
   "cell_type": "code",
   "execution_count": 107,
   "id": "447dd264",
   "metadata": {},
   "outputs": [
    {
     "data": {
      "text/plain": [
       "[402.45745116720104,\n",
       " 351.2007972656099,\n",
       " 382.38723828077735,\n",
       " 363.87360442879066,\n",
       " 325.2752680423152]"
      ]
     },
     "execution_count": 107,
     "metadata": {},
     "output_type": "execute_result"
    }
   ],
   "source": [
    "[spearmans_rho4(alu_15, fac_15), spearmans_rho4(alu_15, pub_15), spearmans_rho4(alu_15, inf_15), \n",
    " spearmans_rho4(alu_15, cit_15), spearmans_rho4(alu_15, pat_15)]"
   ]
  },
  {
   "cell_type": "code",
   "execution_count": 108,
   "id": "e5305c44",
   "metadata": {},
   "outputs": [
    {
     "data": {
      "text/plain": [
       "[328.61831963540925, 222.2566084506825, 284.4749549608893, 369.8621364779044]"
      ]
     },
     "execution_count": 108,
     "metadata": {},
     "output_type": "execute_result"
    }
   ],
   "source": [
    "[spearmans_rho4(fac_15, pub_15), spearmans_rho4(fac_15, inf_15), \n",
    " spearmans_rho4(fac_15, cit_15), spearmans_rho4(fac_15, pat_15)]"
   ]
  },
  {
   "cell_type": "code",
   "execution_count": 109,
   "id": "8f80876b",
   "metadata": {},
   "outputs": [
    {
     "data": {
      "text/plain": [
       "[194.6997688750554, 181.81859090863068, 293.33939387678566]"
      ]
     },
     "execution_count": 109,
     "metadata": {},
     "output_type": "execute_result"
    }
   ],
   "source": [
    "[spearmans_rho4(pub_15, inf_15), spearmans_rho4(pub_15, cit_15), spearmans_rho4(pub_15, pat_15)]"
   ]
  },
  {
   "cell_type": "code",
   "execution_count": 110,
   "id": "8370d1cb",
   "metadata": {},
   "outputs": [
    {
     "data": {
      "text/plain": [
       "[168.63570203251743, 333.4186557467953]"
      ]
     },
     "execution_count": 110,
     "metadata": {},
     "output_type": "execute_result"
    }
   ],
   "source": [
    "[spearmans_rho4(inf_15, cit_15), spearmans_rho4(inf_15, pat_15)]"
   ]
  },
  {
   "cell_type": "code",
   "execution_count": 111,
   "id": "a51c22f9",
   "metadata": {},
   "outputs": [
    {
     "data": {
      "text/plain": [
       "331.5901084170033"
      ]
     },
     "execution_count": 111,
     "metadata": {},
     "output_type": "execute_result"
    }
   ],
   "source": [
    "spearmans_rho4(cit_15, pat_15)"
   ]
  },
  {
   "cell_type": "markdown",
   "id": "46977cc4",
   "metadata": {},
   "source": [
    "##### Spearman's Footrule"
   ]
  },
  {
   "cell_type": "code",
   "execution_count": 112,
   "id": "e5d69467",
   "metadata": {},
   "outputs": [
    {
     "data": {
      "text/plain": [
       "[2862, 1608, 2612, 2092, 2632, 2900]"
      ]
     },
     "execution_count": 112,
     "metadata": {},
     "output_type": "execute_result"
    }
   ],
   "source": [
    "# Compute all the distance between any two variables in year 2015 using spearmans_footrule4\n",
    "[spearmans_footrule4(edu_15, alu_15), spearmans_footrule4(edu_15, fac_15), spearmans_footrule4(edu_15, pub_15),\n",
    " spearmans_footrule4(edu_15, inf_15), spearmans_footrule4(edu_15, cit_15), spearmans_footrule4(edu_15, pat_15)]"
   ]
  },
  {
   "cell_type": "code",
   "execution_count": 113,
   "id": "6b573041",
   "metadata": {},
   "outputs": [
    {
     "data": {
      "text/plain": [
       "[3150, 2684, 2872, 2800, 2470]"
      ]
     },
     "execution_count": 113,
     "metadata": {},
     "output_type": "execute_result"
    }
   ],
   "source": [
    "[spearmans_footrule4(alu_15, fac_15), spearmans_footrule4(alu_15, pub_15), spearmans_footrule4(alu_15, inf_15), \n",
    " spearmans_footrule4(alu_15, cit_15), spearmans_footrule4(alu_15, pat_15)]"
   ]
  },
  {
   "cell_type": "code",
   "execution_count": 114,
   "id": "b8aa547c",
   "metadata": {},
   "outputs": [
    {
     "data": {
      "text/plain": [
       "[2574, 1648, 2144, 2886]"
      ]
     },
     "execution_count": 114,
     "metadata": {},
     "output_type": "execute_result"
    }
   ],
   "source": [
    "[spearmans_footrule4(fac_15, pub_15), spearmans_footrule4(fac_15, inf_15), \n",
    " spearmans_footrule4(fac_15, cit_15), spearmans_footrule4(fac_15, pat_15)]"
   ]
  },
  {
   "cell_type": "code",
   "execution_count": 115,
   "id": "aaff9722",
   "metadata": {},
   "outputs": [
    {
     "data": {
      "text/plain": [
       "[1370, 1308, 2366]"
      ]
     },
     "execution_count": 115,
     "metadata": {},
     "output_type": "execute_result"
    }
   ],
   "source": [
    "[spearmans_footrule4(pub_15, inf_15), spearmans_footrule4(pub_15, cit_15), spearmans_footrule4(pub_15, pat_15)]"
   ]
  },
  {
   "cell_type": "code",
   "execution_count": 116,
   "id": "2d6cafa3",
   "metadata": {},
   "outputs": [
    {
     "data": {
      "text/plain": [
       "[1254, 2626]"
      ]
     },
     "execution_count": 116,
     "metadata": {},
     "output_type": "execute_result"
    }
   ],
   "source": [
    "[spearmans_footrule4(inf_15, cit_15), spearmans_footrule4(inf_15, pat_15)]"
   ]
  },
  {
   "cell_type": "code",
   "execution_count": 117,
   "id": "e832f483",
   "metadata": {},
   "outputs": [
    {
     "data": {
      "text/plain": [
       "2540"
      ]
     },
     "execution_count": 117,
     "metadata": {},
     "output_type": "execute_result"
    }
   ],
   "source": [
    "spearmans_footrule4(cit_15, pat_15)"
   ]
  },
  {
   "cell_type": "markdown",
   "id": "173f71e6",
   "metadata": {},
   "source": [
    "##### Kendall's Tau"
   ]
  },
  {
   "cell_type": "code",
   "execution_count": 118,
   "id": "6ae8c901",
   "metadata": {},
   "outputs": [
    {
     "data": {
      "text/plain": [
       "[2179, 1186, 1921, 1552, 1906, 2214]"
      ]
     },
     "execution_count": 118,
     "metadata": {},
     "output_type": "execute_result"
    }
   ],
   "source": [
    "# Compute all the distance between any two variables in year 2015 using kendalls_tau4\n",
    "[kendalls_tau4(edu_15, alu_15), kendalls_tau4(edu_15, fac_15), kendalls_tau4(edu_15, pub_15),\n",
    " kendalls_tau4(edu_15, inf_15), kendalls_tau4(edu_15, cit_15), kendalls_tau4(edu_15, pat_15)]"
   ]
  },
  {
   "cell_type": "code",
   "execution_count": 119,
   "id": "751ce699",
   "metadata": {},
   "outputs": [
    {
     "data": {
      "text/plain": [
       "[2476, 2033, 2292, 2131, 1833]"
      ]
     },
     "execution_count": 119,
     "metadata": {},
     "output_type": "execute_result"
    }
   ],
   "source": [
    "[kendalls_tau4(alu_15, fac_15), kendalls_tau4(alu_15, pub_15), kendalls_tau4(alu_15, inf_15), \n",
    " kendalls_tau4(alu_15, cit_15), kendalls_tau4(alu_15, pat_15)]"
   ]
  },
  {
   "cell_type": "code",
   "execution_count": 120,
   "id": "60eace49",
   "metadata": {},
   "outputs": [
    {
     "data": {
      "text/plain": [
       "[1890, 1210, 1551, 2195]"
      ]
     },
     "execution_count": 120,
     "metadata": {},
     "output_type": "execute_result"
    }
   ],
   "source": [
    "[kendalls_tau4(fac_15, pub_15), kendalls_tau4(fac_15, inf_15), \n",
    " kendalls_tau4(fac_15, cit_15), kendalls_tau4(fac_15, pat_15)]"
   ]
  },
  {
   "cell_type": "code",
   "execution_count": 121,
   "id": "0531f3f8",
   "metadata": {},
   "outputs": [
    {
     "data": {
      "text/plain": [
       "[1002, 950, 1645]"
      ]
     },
     "execution_count": 121,
     "metadata": {},
     "output_type": "execute_result"
    }
   ],
   "source": [
    "[kendalls_tau4(pub_15, inf_15), kendalls_tau4(pub_15, cit_15), kendalls_tau4(pub_15, pat_15)]"
   ]
  },
  {
   "cell_type": "code",
   "execution_count": 122,
   "id": "4923c961",
   "metadata": {},
   "outputs": [
    {
     "data": {
      "text/plain": [
       "[882, 1905]"
      ]
     },
     "execution_count": 122,
     "metadata": {},
     "output_type": "execute_result"
    }
   ],
   "source": [
    "[kendalls_tau4(inf_15, cit_15), kendalls_tau4(inf_15, pat_15)]"
   ]
  },
  {
   "cell_type": "code",
   "execution_count": 123,
   "id": "5a00d7a0",
   "metadata": {},
   "outputs": [
    {
     "data": {
      "text/plain": [
       "1865"
      ]
     },
     "execution_count": 123,
     "metadata": {},
     "output_type": "execute_result"
    }
   ],
   "source": [
    "kendalls_tau4(cit_15, pat_15)"
   ]
  },
  {
   "cell_type": "code",
   "execution_count": null,
   "id": "490f5746",
   "metadata": {},
   "outputs": [],
   "source": []
  },
  {
   "cell_type": "markdown",
   "id": "14163c77",
   "metadata": {},
   "source": [
    "### Additional: Calculate the Distance of each Feature in Year 2014 (with 1000 rankings)"
   ]
  },
  {
   "cell_type": "code",
   "execution_count": 124,
   "id": "62dc1885",
   "metadata": {},
   "outputs": [],
   "source": [
    "# convert each column into a list\n",
    "edu_2014 = yr14['quality_of_education'].values.tolist()\n",
    "alu_2014 = yr14['alumni_employment'].values.tolist()\n",
    "fac_2014 = yr14['quality_of_faculty'].values.tolist()\n",
    "pub_2014 = yr14['publications'].values.tolist()\n",
    "inf_2014 = yr14['influence'].values.tolist()\n",
    "cit_2014 = yr14['citations'].values.tolist()\n",
    "pat_2014 = yr14['patents'].values.tolist()"
   ]
  },
  {
   "cell_type": "code",
   "execution_count": 125,
   "id": "72f7008d",
   "metadata": {},
   "outputs": [],
   "source": [
    "import random\n",
    "\n",
    "w = list(range(1,1001))\n",
    "z = w.copy()\n",
    "\n",
    "random.shuffle(w)\n",
    "random.shuffle(z)"
   ]
  },
  {
   "cell_type": "markdown",
   "id": "1f020800",
   "metadata": {},
   "source": [
    "##### Spearman's Rho"
   ]
  },
  {
   "cell_type": "code",
   "execution_count": 126,
   "id": "318dbfcb",
   "metadata": {},
   "outputs": [
    {
     "data": {
      "text/plain": [
       "13313.711353337956"
      ]
     },
     "execution_count": 126,
     "metadata": {},
     "output_type": "execute_result"
    }
   ],
   "source": [
    "# Compute two random lists (ranging 1 to 1000) using spearmans_rho4 & set the value as a benchmark\n",
    "spearmans_rho4(w,z)"
   ]
  },
  {
   "cell_type": "code",
   "execution_count": 127,
   "id": "9fb4b672",
   "metadata": {},
   "outputs": [
    {
     "data": {
      "text/plain": [
       "[11156.806442705727,\n",
       " 10400.169902458325,\n",
       " 12269.33836846959,\n",
       " 12095.15291346083,\n",
       " 11897.624720926442,\n",
       " 13008.190804258677]"
      ]
     },
     "execution_count": 127,
     "metadata": {},
     "output_type": "execute_result"
    }
   ],
   "source": [
    "# Compute all the distance between any two variables in year 2014 using spearmans_rho4\n",
    "[spearmans_rho4(edu_2014, alu_2014), spearmans_rho4(edu_2014, fac_2014), spearmans_rho4(edu_2014, pub_2014),\n",
    " spearmans_rho4(edu_2014, inf_2014), spearmans_rho4(edu_2014, cit_2014), spearmans_rho4(edu_2014, pat_2014)]"
   ]
  },
  {
   "cell_type": "code",
   "execution_count": 128,
   "id": "3a7b9fd3",
   "metadata": {},
   "outputs": [
    {
     "data": {
      "text/plain": [
       "[13509.435739511848,\n",
       " 11580.432634405332,\n",
       " 12073.149464824826,\n",
       " 11224.783115944825,\n",
       " 11656.839708943415]"
      ]
     },
     "execution_count": 128,
     "metadata": {},
     "output_type": "execute_result"
    }
   ],
   "source": [
    "[spearmans_rho4(alu_2014, fac_2014), spearmans_rho4(alu_2014, pub_2014), spearmans_rho4(alu_2014, inf_2014), \n",
    " spearmans_rho4(alu_2014, cit_2014), spearmans_rho4(alu_2014, pat_2014)]"
   ]
  },
  {
   "cell_type": "code",
   "execution_count": 129,
   "id": "db84777d",
   "metadata": {},
   "outputs": [
    {
     "data": {
      "text/plain": [
       "[13860.266303357956,\n",
       " 13670.589526424967,\n",
       " 13565.060265254999,\n",
       " 14480.323062694422]"
      ]
     },
     "execution_count": 129,
     "metadata": {},
     "output_type": "execute_result"
    }
   ],
   "source": [
    "[spearmans_rho4(fac_2014, pub_2014), spearmans_rho4(fac_2014, inf_2014), \n",
    " spearmans_rho4(fac_2014, cit_2014), spearmans_rho4(fac_2014, pat_2014)]"
   ]
  },
  {
   "cell_type": "code",
   "execution_count": 130,
   "id": "e5bf18c1",
   "metadata": {},
   "outputs": [
    {
     "data": {
      "text/plain": [
       "[4994.437105420389, 6807.189140900964, 9210.625277363095]"
      ]
     },
     "execution_count": 130,
     "metadata": {},
     "output_type": "execute_result"
    }
   ],
   "source": [
    "[spearmans_rho4(pub_2014, inf_2014), spearmans_rho4(pub_2014, cit_2014), spearmans_rho4(pub_2014, pat_2014)]"
   ]
  },
  {
   "cell_type": "code",
   "execution_count": 131,
   "id": "1a015fe9",
   "metadata": {},
   "outputs": [
    {
     "data": {
      "text/plain": [
       "[6557.879230360986, 9889.956319418201]"
      ]
     },
     "execution_count": 131,
     "metadata": {},
     "output_type": "execute_result"
    }
   ],
   "source": [
    "[spearmans_rho4(inf_2014, cit_2014), spearmans_rho4(inf_2014, pat_2014)]"
   ]
  },
  {
   "cell_type": "code",
   "execution_count": 132,
   "id": "cf5564d8",
   "metadata": {},
   "outputs": [
    {
     "data": {
      "text/plain": [
       "9327.709043489725"
      ]
     },
     "execution_count": 132,
     "metadata": {},
     "output_type": "execute_result"
    }
   ],
   "source": [
    "spearmans_rho4(cit_2014, pat_2014)"
   ]
  },
  {
   "cell_type": "markdown",
   "id": "a2eacc9d",
   "metadata": {},
   "source": [
    "##### Spearman's Footrule"
   ]
  },
  {
   "cell_type": "code",
   "execution_count": 133,
   "id": "afeb34ea",
   "metadata": {},
   "outputs": [
    {
     "data": {
      "text/plain": [
       "348628"
      ]
     },
     "execution_count": 133,
     "metadata": {},
     "output_type": "execute_result"
    }
   ],
   "source": [
    "# Compute two random lists (ranging 1 to 1000) using spearmans_footrule4 & set the value as a benchmark\n",
    "spearmans_footrule4(w,z)"
   ]
  },
  {
   "cell_type": "code",
   "execution_count": 134,
   "id": "d00c2a60",
   "metadata": {},
   "outputs": [
    {
     "data": {
      "text/plain": [
       "[286444, 247166, 307870, 300952, 301458, 335224]"
      ]
     },
     "execution_count": 134,
     "metadata": {},
     "output_type": "execute_result"
    }
   ],
   "source": [
    "# Compute all the distance between any two variables in year 2014 using spearmans_footrule4\n",
    "[spearmans_footrule4(edu_2014, alu_2014), spearmans_footrule4(edu_2014, fac_2014), \n",
    " spearmans_footrule4(edu_2014, pub_2014), spearmans_footrule4(edu_2014, inf_2014), \n",
    " spearmans_footrule4(edu_2014, cit_2014), spearmans_footrule4(edu_2014, pat_2014)]"
   ]
  },
  {
   "cell_type": "code",
   "execution_count": 135,
   "id": "94002903",
   "metadata": {},
   "outputs": [
    {
     "data": {
      "text/plain": [
       "[375050, 288908, 299922, 277090, 296492]"
      ]
     },
     "execution_count": 135,
     "metadata": {},
     "output_type": "execute_result"
    }
   ],
   "source": [
    "[spearmans_footrule4(alu_2014, fac_2014), spearmans_footrule4(alu_2014, pub_2014), \n",
    " spearmans_footrule4(alu_2014, inf_2014), spearmans_footrule4(alu_2014, cit_2014), \n",
    " spearmans_footrule4(alu_2014, pat_2014)]"
   ]
  },
  {
   "cell_type": "code",
   "execution_count": 136,
   "id": "48e9faa4",
   "metadata": {},
   "outputs": [
    {
     "data": {
      "text/plain": [
       "[352162, 345848, 349602, 378500]"
      ]
     },
     "execution_count": 136,
     "metadata": {},
     "output_type": "execute_result"
    }
   ],
   "source": [
    "[spearmans_footrule4(fac_2014, pub_2014), spearmans_footrule4(fac_2014, inf_2014), \n",
    " spearmans_footrule4(fac_2014, cit_2014), spearmans_footrule4(fac_2014, pat_2014)]"
   ]
  },
  {
   "cell_type": "code",
   "execution_count": 137,
   "id": "600823de",
   "metadata": {},
   "outputs": [
    {
     "data": {
      "text/plain": [
       "[113922, 160488, 223604]"
      ]
     },
     "execution_count": 137,
     "metadata": {},
     "output_type": "execute_result"
    }
   ],
   "source": [
    "[spearmans_footrule4(pub_2014, inf_2014), spearmans_footrule4(pub_2014, cit_2014), \n",
    " spearmans_footrule4(pub_2014, pat_2014)]"
   ]
  },
  {
   "cell_type": "code",
   "execution_count": 138,
   "id": "c7ed3f14",
   "metadata": {},
   "outputs": [
    {
     "data": {
      "text/plain": [
       "[153970, 241806]"
      ]
     },
     "execution_count": 138,
     "metadata": {},
     "output_type": "execute_result"
    }
   ],
   "source": [
    "[spearmans_footrule4(inf_2014, cit_2014), spearmans_footrule4(inf_2014, pat_2014)]"
   ]
  },
  {
   "cell_type": "code",
   "execution_count": 139,
   "id": "4732b86c",
   "metadata": {},
   "outputs": [
    {
     "data": {
      "text/plain": [
       "230348"
      ]
     },
     "execution_count": 139,
     "metadata": {},
     "output_type": "execute_result"
    }
   ],
   "source": [
    "spearmans_footrule4(cit_2014, pat_2014)"
   ]
  },
  {
   "cell_type": "markdown",
   "id": "6675b1f3",
   "metadata": {},
   "source": [
    "### Additional: Calculate the Distance of each Feature in Year 2015 (with 1000 rankings)"
   ]
  },
  {
   "cell_type": "code",
   "execution_count": 140,
   "id": "ee42ae09",
   "metadata": {},
   "outputs": [],
   "source": [
    "# convert each column into a list\n",
    "edu_2015 = yr15['quality_of_education'].values.tolist()\n",
    "alu_2015 = yr15['alumni_employment'].values.tolist()\n",
    "fac_2015 = yr15['quality_of_faculty'].values.tolist()\n",
    "pub_2015 = yr15['publications'].values.tolist()\n",
    "inf_2015 = yr15['influence'].values.tolist()\n",
    "cit_2015 = yr15['citations'].values.tolist()\n",
    "pat_2015 = yr15['patents'].values.tolist()"
   ]
  },
  {
   "cell_type": "markdown",
   "id": "e423e563",
   "metadata": {},
   "source": [
    "##### Spearman's Rho"
   ]
  },
  {
   "cell_type": "code",
   "execution_count": 141,
   "id": "9acbb336",
   "metadata": {},
   "outputs": [
    {
     "data": {
      "text/plain": [
       "[11710.183004547795,\n",
       " 10461.276881910735,\n",
       " 12157.203872601627,\n",
       " 11954.801629470896,\n",
       " 11795.394779319597,\n",
       " 13221.168405250724]"
      ]
     },
     "execution_count": 141,
     "metadata": {},
     "output_type": "execute_result"
    }
   ],
   "source": [
    "# Compute all the distance between any two variables in year 2015 using spearmans_rho4\n",
    "[spearmans_rho4(edu_2015, alu_2015), spearmans_rho4(edu_2015, fac_2015), \n",
    " spearmans_rho4(edu_2015, pub_2015), spearmans_rho4(edu_2015, inf_2015), \n",
    " spearmans_rho4(edu_2015, cit_2015), spearmans_rho4(edu_2015, pat_2015)]"
   ]
  },
  {
   "cell_type": "code",
   "execution_count": 142,
   "id": "4403909d",
   "metadata": {},
   "outputs": [
    {
     "data": {
      "text/plain": [
       "[13966.257623286203,\n",
       " 10926.964171260011,\n",
       " 11469.378971853706,\n",
       " 10649.256969385235,\n",
       " 11568.523501294363]"
      ]
     },
     "execution_count": 142,
     "metadata": {},
     "output_type": "execute_result"
    }
   ],
   "source": [
    "[spearmans_rho4(alu_2015, fac_2015), spearmans_rho4(alu_2015, pub_2015), spearmans_rho4(alu_2015, inf_2015), \n",
    " spearmans_rho4(alu_2015, cit_2015), spearmans_rho4(alu_2015, pat_2015)]"
   ]
  },
  {
   "cell_type": "code",
   "execution_count": 143,
   "id": "ed088a83",
   "metadata": {},
   "outputs": [
    {
     "data": {
      "text/plain": [
       "[13755.471711286385,\n",
       " 13528.712133828556,\n",
       " 13422.517275086668,\n",
       " 14579.810081067586]"
      ]
     },
     "execution_count": 143,
     "metadata": {},
     "output_type": "execute_result"
    }
   ],
   "source": [
    "[spearmans_rho4(fac_2015, pub_2015), spearmans_rho4(fac_2015, inf_2015), \n",
    " spearmans_rho4(fac_2015, cit_2015), spearmans_rho4(fac_2015, pat_2015)]"
   ]
  },
  {
   "cell_type": "code",
   "execution_count": 144,
   "id": "27d15fc9",
   "metadata": {},
   "outputs": [
    {
     "data": {
      "text/plain": [
       "[5086.411701779556, 6813.563238130251, 8180.701070201747]"
      ]
     },
     "execution_count": 144,
     "metadata": {},
     "output_type": "execute_result"
    }
   ],
   "source": [
    "[spearmans_rho4(pub_2015, inf_2015), spearmans_rho4(pub_2015, cit_2015), spearmans_rho4(pub_2015, pat_2015)]"
   ]
  },
  {
   "cell_type": "code",
   "execution_count": 145,
   "id": "bfc493be",
   "metadata": {},
   "outputs": [
    {
     "data": {
      "text/plain": [
       "[6542.687215510153, 8818.414596740166]"
      ]
     },
     "execution_count": 145,
     "metadata": {},
     "output_type": "execute_result"
    }
   ],
   "source": [
    "[spearmans_rho4(inf_2015, cit_2015), spearmans_rho4(inf_2015, pat_2015)]"
   ]
  },
  {
   "cell_type": "code",
   "execution_count": 146,
   "id": "054562d6",
   "metadata": {},
   "outputs": [
    {
     "data": {
      "text/plain": [
       "9699.4962755805"
      ]
     },
     "execution_count": 146,
     "metadata": {},
     "output_type": "execute_result"
    }
   ],
   "source": [
    "spearmans_rho4(cit_2015, pat_2015)"
   ]
  },
  {
   "cell_type": "markdown",
   "id": "46c61e17",
   "metadata": {},
   "source": [
    "##### Spearman's Footrule"
   ]
  },
  {
   "cell_type": "code",
   "execution_count": 147,
   "id": "085df2ff",
   "metadata": {},
   "outputs": [
    {
     "data": {
      "text/plain": [
       "[311728, 251358, 303810, 296464, 298964, 333928]"
      ]
     },
     "execution_count": 147,
     "metadata": {},
     "output_type": "execute_result"
    }
   ],
   "source": [
    "# Compute all the distance between any two variables in year 2015 using spearmans_footrule4\n",
    "[spearmans_footrule4(edu_2015, alu_2015), spearmans_footrule4(edu_2015, fac_2015), \n",
    " spearmans_footrule4(edu_2015, pub_2015), spearmans_footrule4(edu_2015, inf_2015), \n",
    " spearmans_footrule4(edu_2015, cit_2015), spearmans_footrule4(edu_2015, pat_2015)]"
   ]
  },
  {
   "cell_type": "code",
   "execution_count": 148,
   "id": "8b1afa13",
   "metadata": {},
   "outputs": [
    {
     "data": {
      "text/plain": [
       "[386330, 270238, 281610, 258438, 287018]"
      ]
     },
     "execution_count": 148,
     "metadata": {},
     "output_type": "execute_result"
    }
   ],
   "source": [
    "[spearmans_footrule4(alu_2015, fac_2015), spearmans_footrule4(alu_2015, pub_2015), \n",
    " spearmans_footrule4(alu_2015, inf_2015), spearmans_footrule4(alu_2015, cit_2015), \n",
    " spearmans_footrule4(alu_2015, pat_2015)]"
   ]
  },
  {
   "cell_type": "code",
   "execution_count": 149,
   "id": "986d7e99",
   "metadata": {},
   "outputs": [
    {
     "data": {
      "text/plain": [
       "[348684, 341390, 340756, 378462]"
      ]
     },
     "execution_count": 149,
     "metadata": {},
     "output_type": "execute_result"
    }
   ],
   "source": [
    "[spearmans_footrule4(fac_2015, pub_2015), spearmans_footrule4(fac_2015, inf_2015), \n",
    " spearmans_footrule4(fac_2015, cit_2015), spearmans_footrule4(fac_2015, pat_2015)]"
   ]
  },
  {
   "cell_type": "code",
   "execution_count": 150,
   "id": "b8fbb3aa",
   "metadata": {},
   "outputs": [
    {
     "data": {
      "text/plain": [
       "[116320, 159162, 196078]"
      ]
     },
     "execution_count": 150,
     "metadata": {},
     "output_type": "execute_result"
    }
   ],
   "source": [
    "[spearmans_footrule4(pub_2015, inf_2015), spearmans_footrule4(pub_2015, cit_2015), \n",
    " spearmans_footrule4(pub_2015, pat_2015)]"
   ]
  },
  {
   "cell_type": "code",
   "execution_count": 151,
   "id": "630ba49a",
   "metadata": {},
   "outputs": [
    {
     "data": {
      "text/plain": [
       "[153010, 212634]"
      ]
     },
     "execution_count": 151,
     "metadata": {},
     "output_type": "execute_result"
    }
   ],
   "source": [
    "[spearmans_footrule4(inf_2015, cit_2015), spearmans_footrule4(inf_2015, pat_2015)]"
   ]
  },
  {
   "cell_type": "code",
   "execution_count": 152,
   "id": "1e1e8dda",
   "metadata": {},
   "outputs": [
    {
     "data": {
      "text/plain": [
       "240482"
      ]
     },
     "execution_count": 152,
     "metadata": {},
     "output_type": "execute_result"
    }
   ],
   "source": [
    "spearmans_footrule4(cit_2015, pat_2015)"
   ]
  }
 ],
 "metadata": {
  "celltoolbar": "Raw Cell Format",
  "kernelspec": {
   "display_name": "Python 3",
   "language": "python",
   "name": "python3"
  },
  "language_info": {
   "codemirror_mode": {
    "name": "ipython",
    "version": 3
   },
   "file_extension": ".py",
   "mimetype": "text/x-python",
   "name": "python",
   "nbconvert_exporter": "python",
   "pygments_lexer": "ipython3",
   "version": "3.8.8"
  }
 },
 "nbformat": 4,
 "nbformat_minor": 5
}
